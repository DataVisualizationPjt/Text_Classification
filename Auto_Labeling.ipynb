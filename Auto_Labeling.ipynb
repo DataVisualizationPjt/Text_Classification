{
 "cells": [
  {
   "cell_type": "markdown",
   "id": "c5efc404",
   "metadata": {},
   "source": [
    "# Import Library"
   ]
  },
  {
   "cell_type": "code",
   "execution_count": 1,
   "id": "e16e7cee",
   "metadata": {},
   "outputs": [],
   "source": [
    "import pandas as pd\n",
    "import selenium\n",
    "import time\n",
    "import random as rd\n",
    "from tqdm import tqdm\n",
    "\n",
    "from selenium import webdriver\n",
    "from selenium.webdriver.common.by import By\n",
    "from selenium.webdriver.common.keys import Keys\n",
    "from selenium.webdriver.common.action_chains import ActionChains\n",
    "import pyperclip"
   ]
  },
  {
   "cell_type": "markdown",
   "id": "8750676e",
   "metadata": {},
   "source": [
    "# Click '이 기사를 추천합니다' Button"
   ]
  },
  {
   "cell_type": "markdown",
   "id": "6dce641b",
   "metadata": {},
   "source": [
    "## Load Keyword List"
   ]
  },
  {
   "cell_type": "code",
   "execution_count": 2,
   "id": "79719ea0",
   "metadata": {},
   "outputs": [
    {
     "data": {
      "text/plain": [
       "30"
      ]
     },
     "execution_count": 2,
     "metadata": {},
     "output_type": "execute_result"
    }
   ],
   "source": [
    "kw_lst = pd.read_csv('./kw_lst/light_kw_list.csv')['검색어'].to_list()\n",
    "len(kw_lst)"
   ]
  },
  {
   "cell_type": "markdown",
   "id": "1e1fab7d",
   "metadata": {},
   "source": [
    "## Log In Naver & Click Button"
   ]
  },
  {
   "cell_type": "code",
   "execution_count": 7,
   "id": "ce360b06",
   "metadata": {},
   "outputs": [
    {
     "name": "stderr",
     "output_type": "stream",
     "text": [
      "  0%|▏                                                                               | 1/400 [00:12<1:22:51, 12.46s/it]\n"
     ]
    },
    {
     "ename": "NoSuchWindowException",
     "evalue": "Message: no such window: target window already closed\nfrom unknown error: web view not found\n  (Session info: chrome=114.0.5735.110)\nStacktrace:\nBacktrace:\n\tGetHandleVerifier [0x00EEA813+48355]\n\t(No symbol) [0x00E7C4B1]\n\t(No symbol) [0x00D85358]\n\t(No symbol) [0x00D6D293]\n\t(No symbol) [0x00DCE37B]\n\t(No symbol) [0x00DDC473]\n\t(No symbol) [0x00DCA536]\n\t(No symbol) [0x00DA82DC]\n\t(No symbol) [0x00DA93DD]\n\tGetHandleVerifier [0x0114AABD+2539405]\n\tGetHandleVerifier [0x0118A78F+2800735]\n\tGetHandleVerifier [0x0118456C+2775612]\n\tGetHandleVerifier [0x00F751E0+616112]\n\t(No symbol) [0x00E85F8C]\n\t(No symbol) [0x00E82328]\n\t(No symbol) [0x00E8240B]\n\t(No symbol) [0x00E74FF7]\n\tBaseThreadInitThunk [0x76367D59+25]\n\tRtlInitializeExceptionChain [0x7727B74B+107]\n\tRtlClearBits [0x7727B6CF+191]\n",
     "output_type": "error",
     "traceback": [
      "\u001b[1;31m---------------------------------------------------------------------------\u001b[0m",
      "\u001b[1;31mNoSuchWindowException\u001b[0m                     Traceback (most recent call last)",
      "Cell \u001b[1;32mIn[7], line 122\u001b[0m\n\u001b[0;32m    121\u001b[0m \u001b[38;5;28;01mtry\u001b[39;00m:\n\u001b[1;32m--> 122\u001b[0m     \u001b[43mdriver\u001b[49m\u001b[38;5;241;43m.\u001b[39;49m\u001b[43mfind_element\u001b[49m\u001b[43m(\u001b[49m\u001b[43mBy\u001b[49m\u001b[38;5;241;43m.\u001b[39;49m\u001b[43mCSS_SELECTOR\u001b[49m\u001b[43m,\u001b[49m\u001b[43m \u001b[49m\u001b[38;5;124;43mr\u001b[39;49m\u001b[38;5;124;43m'\u001b[39;49m\u001b[38;5;124;43ma.btn_next\u001b[39;49m\u001b[38;5;124;43m'\u001b[39;49m\u001b[43m)\u001b[49m\u001b[38;5;241m.\u001b[39mclick()\n\u001b[0;32m    124\u001b[0m \u001b[38;5;28;01mexcept\u001b[39;00m:\n",
      "File \u001b[1;32m~\\anaconda3\\envs\\univ\\lib\\site-packages\\selenium\\webdriver\\remote\\webdriver.py:831\u001b[0m, in \u001b[0;36mWebDriver.find_element\u001b[1;34m(self, by, value)\u001b[0m\n\u001b[0;32m    829\u001b[0m     value \u001b[38;5;241m=\u001b[39m \u001b[38;5;124mf\u001b[39m\u001b[38;5;124m'\u001b[39m\u001b[38;5;124m[name=\u001b[39m\u001b[38;5;124m\"\u001b[39m\u001b[38;5;132;01m{\u001b[39;00mvalue\u001b[38;5;132;01m}\u001b[39;00m\u001b[38;5;124m\"\u001b[39m\u001b[38;5;124m]\u001b[39m\u001b[38;5;124m'\u001b[39m\n\u001b[1;32m--> 831\u001b[0m \u001b[38;5;28;01mreturn\u001b[39;00m \u001b[38;5;28;43mself\u001b[39;49m\u001b[38;5;241;43m.\u001b[39;49m\u001b[43mexecute\u001b[49m\u001b[43m(\u001b[49m\u001b[43mCommand\u001b[49m\u001b[38;5;241;43m.\u001b[39;49m\u001b[43mFIND_ELEMENT\u001b[49m\u001b[43m,\u001b[49m\u001b[43m \u001b[49m\u001b[43m{\u001b[49m\u001b[38;5;124;43m\"\u001b[39;49m\u001b[38;5;124;43musing\u001b[39;49m\u001b[38;5;124;43m\"\u001b[39;49m\u001b[43m:\u001b[49m\u001b[43m \u001b[49m\u001b[43mby\u001b[49m\u001b[43m,\u001b[49m\u001b[43m \u001b[49m\u001b[38;5;124;43m\"\u001b[39;49m\u001b[38;5;124;43mvalue\u001b[39;49m\u001b[38;5;124;43m\"\u001b[39;49m\u001b[43m:\u001b[49m\u001b[43m \u001b[49m\u001b[43mvalue\u001b[49m\u001b[43m}\u001b[49m\u001b[43m)\u001b[49m[\u001b[38;5;124m\"\u001b[39m\u001b[38;5;124mvalue\u001b[39m\u001b[38;5;124m\"\u001b[39m]\n",
      "File \u001b[1;32m~\\anaconda3\\envs\\univ\\lib\\site-packages\\selenium\\webdriver\\remote\\webdriver.py:440\u001b[0m, in \u001b[0;36mWebDriver.execute\u001b[1;34m(self, driver_command, params)\u001b[0m\n\u001b[0;32m    439\u001b[0m \u001b[38;5;28;01mif\u001b[39;00m response:\n\u001b[1;32m--> 440\u001b[0m     \u001b[38;5;28;43mself\u001b[39;49m\u001b[38;5;241;43m.\u001b[39;49m\u001b[43merror_handler\u001b[49m\u001b[38;5;241;43m.\u001b[39;49m\u001b[43mcheck_response\u001b[49m\u001b[43m(\u001b[49m\u001b[43mresponse\u001b[49m\u001b[43m)\u001b[49m\n\u001b[0;32m    441\u001b[0m     response[\u001b[38;5;124m\"\u001b[39m\u001b[38;5;124mvalue\u001b[39m\u001b[38;5;124m\"\u001b[39m] \u001b[38;5;241m=\u001b[39m \u001b[38;5;28mself\u001b[39m\u001b[38;5;241m.\u001b[39m_unwrap_value(response\u001b[38;5;241m.\u001b[39mget(\u001b[38;5;124m\"\u001b[39m\u001b[38;5;124mvalue\u001b[39m\u001b[38;5;124m\"\u001b[39m, \u001b[38;5;28;01mNone\u001b[39;00m))\n",
      "File \u001b[1;32m~\\anaconda3\\envs\\univ\\lib\\site-packages\\selenium\\webdriver\\remote\\errorhandler.py:245\u001b[0m, in \u001b[0;36mErrorHandler.check_response\u001b[1;34m(self, response)\u001b[0m\n\u001b[0;32m    244\u001b[0m     \u001b[38;5;28;01mraise\u001b[39;00m exception_class(message, screen, stacktrace, alert_text)  \u001b[38;5;66;03m# type: ignore[call-arg]  # mypy is not smart enough here\u001b[39;00m\n\u001b[1;32m--> 245\u001b[0m \u001b[38;5;28;01mraise\u001b[39;00m exception_class(message, screen, stacktrace)\n",
      "\u001b[1;31mNoSuchWindowException\u001b[0m: Message: no such window: target window already closed\nfrom unknown error: web view not found\n  (Session info: chrome=114.0.5735.110)\nStacktrace:\nBacktrace:\n\tGetHandleVerifier [0x00EEA813+48355]\n\t(No symbol) [0x00E7C4B1]\n\t(No symbol) [0x00D85358]\n\t(No symbol) [0x00D6D293]\n\t(No symbol) [0x00DCE37B]\n\t(No symbol) [0x00DDC473]\n\t(No symbol) [0x00DCA536]\n\t(No symbol) [0x00DA82DC]\n\t(No symbol) [0x00DA93DD]\n\tGetHandleVerifier [0x0114AABD+2539405]\n\tGetHandleVerifier [0x0118A78F+2800735]\n\tGetHandleVerifier [0x0118456C+2775612]\n\tGetHandleVerifier [0x00F751E0+616112]\n\t(No symbol) [0x00E85F8C]\n\t(No symbol) [0x00E82328]\n\t(No symbol) [0x00E8240B]\n\t(No symbol) [0x00E74FF7]\n\tBaseThreadInitThunk [0x76367D59+25]\n\tRtlInitializeExceptionChain [0x7727B74B+107]\n\tRtlClearBits [0x7727B6CF+191]\n",
      "\nDuring handling of the above exception, another exception occurred:\n",
      "\u001b[1;31mNoSuchWindowException\u001b[0m                     Traceback (most recent call last)",
      "Cell \u001b[1;32mIn[7], line 125\u001b[0m\n\u001b[0;32m    122\u001b[0m                 driver\u001b[38;5;241m.\u001b[39mfind_element(By\u001b[38;5;241m.\u001b[39mCSS_SELECTOR, \u001b[38;5;124mr\u001b[39m\u001b[38;5;124m'\u001b[39m\u001b[38;5;124ma.btn_next\u001b[39m\u001b[38;5;124m'\u001b[39m)\u001b[38;5;241m.\u001b[39mclick()\n\u001b[0;32m    124\u001b[0m             \u001b[38;5;28;01mexcept\u001b[39;00m:\n\u001b[1;32m--> 125\u001b[0m                 \u001b[43mdriver\u001b[49m\u001b[38;5;241;43m.\u001b[39;49m\u001b[43mexecute_script\u001b[49m\u001b[43m(\u001b[49m\u001b[38;5;124;43m\"\u001b[39;49m\u001b[38;5;124;43mwindow.scrollTo(0, 0);\u001b[39;49m\u001b[38;5;124;43m\"\u001b[39;49m\u001b[43m)\u001b[49m\n\u001b[0;32m    127\u001b[0m         \u001b[38;5;28mprint\u001b[39m(\u001b[38;5;124mf\u001b[39m\u001b[38;5;124m\"\u001b[39m\u001b[38;5;124mtime : \u001b[39m\u001b[38;5;132;01m{\u001b[39;00m\u001b[38;5;28mround\u001b[39m((time\u001b[38;5;241m.\u001b[39mtime()\u001b[38;5;250m \u001b[39m\u001b[38;5;241m-\u001b[39m\u001b[38;5;250m \u001b[39mstart)\u001b[38;5;241m/\u001b[39m\u001b[38;5;241m3600\u001b[39m),\u001b[38;5;241m2\u001b[39m\u001b[38;5;132;01m}\u001b[39;00m\u001b[38;5;124m Hours\u001b[39m\u001b[38;5;124m\"\u001b[39m)\n\u001b[0;32m    129\u001b[0m driver\u001b[38;5;241m.\u001b[39mexecute_script(\u001b[38;5;124m\"\u001b[39m\u001b[38;5;124mwindow.scrollTo(0, 0);\u001b[39m\u001b[38;5;124m\"\u001b[39m)\n",
      "File \u001b[1;32m~\\anaconda3\\envs\\univ\\lib\\site-packages\\selenium\\webdriver\\remote\\webdriver.py:500\u001b[0m, in \u001b[0;36mWebDriver.execute_script\u001b[1;34m(self, script, *args)\u001b[0m\n\u001b[0;32m    497\u001b[0m converted_args \u001b[38;5;241m=\u001b[39m \u001b[38;5;28mlist\u001b[39m(args)\n\u001b[0;32m    498\u001b[0m command \u001b[38;5;241m=\u001b[39m Command\u001b[38;5;241m.\u001b[39mW3C_EXECUTE_SCRIPT\n\u001b[1;32m--> 500\u001b[0m \u001b[38;5;28;01mreturn\u001b[39;00m \u001b[38;5;28;43mself\u001b[39;49m\u001b[38;5;241;43m.\u001b[39;49m\u001b[43mexecute\u001b[49m\u001b[43m(\u001b[49m\u001b[43mcommand\u001b[49m\u001b[43m,\u001b[49m\u001b[43m \u001b[49m\u001b[43m{\u001b[49m\u001b[38;5;124;43m\"\u001b[39;49m\u001b[38;5;124;43mscript\u001b[39;49m\u001b[38;5;124;43m\"\u001b[39;49m\u001b[43m:\u001b[49m\u001b[43m \u001b[49m\u001b[43mscript\u001b[49m\u001b[43m,\u001b[49m\u001b[43m \u001b[49m\u001b[38;5;124;43m\"\u001b[39;49m\u001b[38;5;124;43margs\u001b[39;49m\u001b[38;5;124;43m\"\u001b[39;49m\u001b[43m:\u001b[49m\u001b[43m \u001b[49m\u001b[43mconverted_args\u001b[49m\u001b[43m}\u001b[49m\u001b[43m)\u001b[49m[\u001b[38;5;124m\"\u001b[39m\u001b[38;5;124mvalue\u001b[39m\u001b[38;5;124m\"\u001b[39m]\n",
      "File \u001b[1;32m~\\anaconda3\\envs\\univ\\lib\\site-packages\\selenium\\webdriver\\remote\\webdriver.py:440\u001b[0m, in \u001b[0;36mWebDriver.execute\u001b[1;34m(self, driver_command, params)\u001b[0m\n\u001b[0;32m    438\u001b[0m response \u001b[38;5;241m=\u001b[39m \u001b[38;5;28mself\u001b[39m\u001b[38;5;241m.\u001b[39mcommand_executor\u001b[38;5;241m.\u001b[39mexecute(driver_command, params)\n\u001b[0;32m    439\u001b[0m \u001b[38;5;28;01mif\u001b[39;00m response:\n\u001b[1;32m--> 440\u001b[0m     \u001b[38;5;28;43mself\u001b[39;49m\u001b[38;5;241;43m.\u001b[39;49m\u001b[43merror_handler\u001b[49m\u001b[38;5;241;43m.\u001b[39;49m\u001b[43mcheck_response\u001b[49m\u001b[43m(\u001b[49m\u001b[43mresponse\u001b[49m\u001b[43m)\u001b[49m\n\u001b[0;32m    441\u001b[0m     response[\u001b[38;5;124m\"\u001b[39m\u001b[38;5;124mvalue\u001b[39m\u001b[38;5;124m\"\u001b[39m] \u001b[38;5;241m=\u001b[39m \u001b[38;5;28mself\u001b[39m\u001b[38;5;241m.\u001b[39m_unwrap_value(response\u001b[38;5;241m.\u001b[39mget(\u001b[38;5;124m\"\u001b[39m\u001b[38;5;124mvalue\u001b[39m\u001b[38;5;124m\"\u001b[39m, \u001b[38;5;28;01mNone\u001b[39;00m))\n\u001b[0;32m    442\u001b[0m     \u001b[38;5;28;01mreturn\u001b[39;00m response\n",
      "File \u001b[1;32m~\\anaconda3\\envs\\univ\\lib\\site-packages\\selenium\\webdriver\\remote\\errorhandler.py:245\u001b[0m, in \u001b[0;36mErrorHandler.check_response\u001b[1;34m(self, response)\u001b[0m\n\u001b[0;32m    243\u001b[0m         alert_text \u001b[38;5;241m=\u001b[39m value[\u001b[38;5;124m\"\u001b[39m\u001b[38;5;124malert\u001b[39m\u001b[38;5;124m\"\u001b[39m]\u001b[38;5;241m.\u001b[39mget(\u001b[38;5;124m\"\u001b[39m\u001b[38;5;124mtext\u001b[39m\u001b[38;5;124m\"\u001b[39m)\n\u001b[0;32m    244\u001b[0m     \u001b[38;5;28;01mraise\u001b[39;00m exception_class(message, screen, stacktrace, alert_text)  \u001b[38;5;66;03m# type: ignore[call-arg]  # mypy is not smart enough here\u001b[39;00m\n\u001b[1;32m--> 245\u001b[0m \u001b[38;5;28;01mraise\u001b[39;00m exception_class(message, screen, stacktrace)\n",
      "\u001b[1;31mNoSuchWindowException\u001b[0m: Message: no such window: target window already closed\nfrom unknown error: web view not found\n  (Session info: chrome=114.0.5735.110)\nStacktrace:\nBacktrace:\n\tGetHandleVerifier [0x00EEA813+48355]\n\t(No symbol) [0x00E7C4B1]\n\t(No symbol) [0x00D85358]\n\t(No symbol) [0x00D6D293]\n\t(No symbol) [0x00DCE37B]\n\t(No symbol) [0x00DDC473]\n\t(No symbol) [0x00DCA536]\n\t(No symbol) [0x00DA82DC]\n\t(No symbol) [0x00DA93DD]\n\tGetHandleVerifier [0x0114AABD+2539405]\n\tGetHandleVerifier [0x0118A78F+2800735]\n\tGetHandleVerifier [0x0118456C+2775612]\n\tGetHandleVerifier [0x00F751E0+616112]\n\t(No symbol) [0x00E85F8C]\n\t(No symbol) [0x00E82328]\n\t(No symbol) [0x00E8240B]\n\t(No symbol) [0x00E74FF7]\n\tBaseThreadInitThunk [0x76367D59+25]\n\tRtlInitializeExceptionChain [0x7727B74B+107]\n\tRtlClearBits [0x7727B6CF+191]\n"
     ]
    }
   ],
   "source": [
    "driver = webdriver.Chrome()\n",
    "driver.get('https://www.naver.com/')\n",
    "driver.maximize_window()\n",
    "time.sleep(rd.uniform(0,1.5))\n",
    "\n",
    "driver.find_element(By.CSS_SELECTOR,r'#account > div > a').click()\n",
    "time.sleep(rd.uniform(0,1.5))\n",
    "\n",
    "# Log In\n",
    "# user_id = str(input('아이디를 입력하세요: '))\n",
    "# user_passwd = str(input('비밀번호를 입력하세요: '))\n",
    "# user_id = 'sysconan'\n",
    "# user_passwd = '!Brandan0211'\n",
    "user_id = 'kimnh097 '\n",
    "user_passwd = 'skagns0019!'\n",
    "\n",
    "driver.find_element(By.CSS_SELECTOR,r'#id_line').click()\n",
    "pyperclip.copy(user_id)\n",
    "ActionChains(driver).key_down(Keys.CONTROL).send_keys('v').key_up(Keys.CONTROL).perform()\n",
    "time.sleep(rd.uniform(0,1.5))\n",
    "\n",
    "driver.find_element(By.CSS_SELECTOR,r'#pw').click()\n",
    "pyperclip.copy(user_passwd)\n",
    "ActionChains(driver).key_down(Keys.CONTROL).send_keys('v').key_up(Keys.CONTROL).perform()\n",
    "time.sleep(rd.uniform(0,1.5))\n",
    "\n",
    "driver.find_element(By.CSS_SELECTOR,r'#log\\.login').click()\n",
    "time.sleep(rd.uniform(0,1.5))\n",
    "\n",
    "# New browser submit\n",
    "driver.find_element(By.CSS_SELECTOR,r'#new\\.save').click()\n",
    "time.sleep(rd.uniform(0,1.5))\n",
    "\n",
    "# Setting Environment To Searching News\n",
    "driver.find_element(By.CSS_SELECTOR,r'#search-btn').click()\n",
    "time.sleep(rd.uniform(0,1.5))\n",
    "driver.find_element(By.CSS_SELECTOR,r'#lnb > div.lnb_group > div > ul > li:nth-child(8) > a').click()\n",
    "time.sleep(rd.uniform(0,1.5))\n",
    "\n",
    "# Searching Key_Words\n",
    "for kw in kw_lst:\n",
    "    driver.find_element(By.CSS_SELECTOR,r'input#nx_query').send_keys(kw)\n",
    "    driver.find_element(By.CSS_SELECTOR,r'#nx_search_form > fieldset > button > i').click()\n",
    "    time.sleep(rd.uniform(0,1.5))\n",
    "    \n",
    "    for y in range(29,34):\n",
    "        for m in [[1,6],[7,12]]:\n",
    "            driver.find_element(By.CSS_SELECTOR,\n",
    "                              r'a.btn_option._search_option_open_btn').send_keys(Keys.ENTER)\n",
    "            time.sleep(rd.uniform(0,1))\n",
    "            driver.find_element(By.CSS_SELECTOR,\n",
    "                                      r'a.txt.txt_option._calendar_select_trigger').click()\n",
    "            # Set Start Date\n",
    "            driver.find_element(By.XPATH,\n",
    "                                      f'//*[@id=\"snb\"]/div[2]/ul/li[2]/div/div[3]/div[2]/div[1]/div/div/div/ul/li[{y}]/a').send_keys(Keys.ENTER)\n",
    "            driver.find_element(By.XPATH,\n",
    "                                      f'//*[@id=\"snb\"]/div[2]/ul/li[2]/div/div[3]/div[2]/div[2]/div/div/div/ul/li[{m[0]}]/a').send_keys(Keys.ENTER)\n",
    "            driver.find_element(By.XPATH,\n",
    "                                      r'//*[@id=\"snb\"]/div[2]/ul/li[2]/div/div[3]/div[2]/div[3]/div/div/div/ul/li[1]/a').send_keys(Keys.ENTER)\n",
    "\n",
    "            # Set End Date\n",
    "            driver.find_element(By.CSS_SELECTOR,\n",
    "                                      r'a.spnew_bf.ico_calendar._end_trigger').click()\n",
    "            driver.find_element(By.XPATH,\n",
    "                                      f'//*[@id=\"snb\"]/div[2]/ul/li[2]/div/div[3]/div[2]/div[1]/div/div/div/ul/li[{y}]/a').click()\n",
    "            driver.find_element(By.XPATH,\n",
    "                                      f'//*[@id=\"snb\"]/div[2]/ul/li[2]/div/div[3]/div[2]/div[2]/div/div/div/ul/li[{m[1]}]/a').click()\n",
    "            if m[1] == 12:\n",
    "                driver.find_element(By.XPATH,\n",
    "                                          r'//*[@id=\"snb\"]/div[2]/ul/li[2]/div/div[3]/div[2]/div[3]/div/div/div/ul/li[31]/a').click()\n",
    "            else:\n",
    "                driver.find_element(By.XPATH,\n",
    "                                          r'//*[@id=\"snb\"]/div[2]/ul/li[2]/div/div[3]/div[2]/div[3]/div/div/div/ul/li[30]/a').click()\n",
    "\n",
    "            # Apply\n",
    "            driver.find_element(By.CSS_SELECTOR,\n",
    "                                      r'button.btn_apply._apply_btn').click()\n",
    "            time.sleep(rd.uniform(0,1.5))\n",
    "            \n",
    "            if y == 31:\n",
    "                    print(f'{kw} - 2020.{m[0]} ~ {m[1]}')\n",
    "            if y == 32:\n",
    "                print(f'{kw} - 2021.{m[0]} ~ {m[1]}')\n",
    "            if y == 33:\n",
    "                print(f'{kw} - 2022.{m[0]} ~ {m[1]}')\n",
    "                \n",
    "            start = time.time()\n",
    "\n",
    "            for n in tqdm(range(400)):\n",
    "                for news in driver.find_elements(By.CSS_SELECTOR,r'div.group_news > ul > li > div > div.news_area'):\n",
    "                    # 난수 발생 후 특정값 이상일 때만 기사에 들어가서 추천 누르기\n",
    "                    num = rd.uniform(0,1)\n",
    "                    if num <= 0.4:\n",
    "                        # '네이버뉴스' 없으면 pass\n",
    "                        try:\n",
    "                            news.find_element(By.CSS_SELECTOR,r'div.info_group > a:nth-child(3)').click()\n",
    "                            time.sleep(rd.uniform(0,1.5))\n",
    "                            driver.switch_to.window(driver.window_handles[1])\n",
    "                            time.sleep(rd.uniform(0,1))\n",
    "                            driver.execute_script(\"window.scrollTo(0,document.body.scrollHeight);\")\n",
    "                            time.sleep(rd.uniform(0,1.5))\n",
    "                        \n",
    "                            # 만약 추천이 눌려져있는 기사라면 try~except를 통해 pass\n",
    "                            try:\n",
    "                                driver.find_element(By.CSS_SELECTOR,r'#__markup_tomain > div > a').click()\n",
    "                                time.sleep(rd.uniform(0,1))\n",
    "                            except:\n",
    "                                pass\n",
    "                            \n",
    "                            driver.close()\n",
    "                            time.sleep(rd.uniform(0,1.5))\n",
    "                            driver.switch_to.window(driver.window_handles[0])\n",
    "                            time.sleep(rd.uniform(0,1.5))\n",
    "                            \n",
    "                        except:\n",
    "                            pass\n",
    "\n",
    "                    else:\n",
    "                        pass\n",
    "                \n",
    "                try:\n",
    "                    driver.find_element(By.CSS_SELECTOR, r'a.btn_next').click()\n",
    "                    \n",
    "                except:\n",
    "                    driver.execute_script(\"window.scrollTo(0, 0);\")\n",
    "                    \n",
    "            print(f\"time : {round((time.time() - start)/3600),2} Hours\")\n",
    "                    \n",
    "    driver.execute_script(\"window.scrollTo(0, 0);\")\n",
    "    driver.find_element(By.CSS_SELECTOR,r'input#nx_query').clear()\n",
    "                    \n",
    "driver.quit()"
   ]
  },
  {
   "cell_type": "code",
   "execution_count": null,
   "id": "6ad8930c",
   "metadata": {},
   "outputs": [],
   "source": []
  }
 ],
 "metadata": {
  "kernelspec": {
   "display_name": "univ_project",
   "language": "python",
   "name": "univ"
  },
  "language_info": {
   "codemirror_mode": {
    "name": "ipython",
    "version": 3
   },
   "file_extension": ".py",
   "mimetype": "text/x-python",
   "name": "python",
   "nbconvert_exporter": "python",
   "pygments_lexer": "ipython3",
   "version": "3.10.0"
  }
 },
 "nbformat": 4,
 "nbformat_minor": 5
}
