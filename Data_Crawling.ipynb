{
 "cells": [
  {
   "cell_type": "markdown",
   "id": "45048ba1",
   "metadata": {},
   "source": [
    "# Import Library"
   ]
  },
  {
   "cell_type": "code",
   "execution_count": 5,
   "id": "aaf2286e",
   "metadata": {},
   "outputs": [],
   "source": [
    "import pandas as pd\n",
    "import selenium\n",
    "import time\n",
    "import random as rd\n",
    "\n",
    "from selenium import webdriver\n",
    "from selenium.webdriver.common.by import By\n",
    "from selenium.webdriver.common.keys import Keys\n",
    "from selenium.webdriver.common.action_chains import ActionChains\n",
    "import pyperclip"
   ]
  },
  {
   "cell_type": "markdown",
   "id": "3bc49ed9",
   "metadata": {},
   "source": [
    "# Crawling '랭킹'"
   ]
  },
  {
   "cell_type": "code",
   "execution_count": 26,
   "id": "18f7b174",
   "metadata": {},
   "outputs": [
    {
     "ename": "AttributeError",
     "evalue": "'WebElement' object has no attribute 'decompose'",
     "output_type": "error",
     "traceback": [
      "\u001b[1;31m---------------------------------------------------------------------------\u001b[0m",
      "\u001b[1;31mAttributeError\u001b[0m                            Traceback (most recent call last)",
      "Cell \u001b[1;32mIn[26], line 60\u001b[0m\n\u001b[0;32m     58\u001b[0m \u001b[38;5;66;03m# Delete Unnecessary Elements\u001b[39;00m\n\u001b[0;32m     59\u001b[0m \u001b[38;5;28;01mfor\u001b[39;00m div \u001b[38;5;129;01min\u001b[39;00m article\u001b[38;5;241m.\u001b[39mfind_elements(By\u001b[38;5;241m.\u001b[39mCSS_SELECTOR,\u001b[38;5;124m'\u001b[39m\u001b[38;5;124mdiv\u001b[39m\u001b[38;5;124m'\u001b[39m):\n\u001b[1;32m---> 60\u001b[0m     \u001b[43mdiv\u001b[49m\u001b[38;5;241;43m.\u001b[39;49m\u001b[43mdecompose\u001b[49m()\n\u001b[0;32m     62\u001b[0m \u001b[38;5;28;01mfor\u001b[39;00m p \u001b[38;5;129;01min\u001b[39;00m article\u001b[38;5;241m.\u001b[39mfind_elements(By\u001b[38;5;241m.\u001b[39mCSS_SELECTOR,\u001b[38;5;124m'\u001b[39m\u001b[38;5;124mp\u001b[39m\u001b[38;5;124m'\u001b[39m):\n\u001b[0;32m     63\u001b[0m     p\u001b[38;5;241m.\u001b[39mdecompose()\n",
      "\u001b[1;31mAttributeError\u001b[0m: 'WebElement' object has no attribute 'decompose'"
     ]
    }
   ],
   "source": [
    "driver = webdriver.Chrome()\n",
    "driver.get('https://www.naver.com/')\n",
    "time.sleep(rd.uniform(0,1.5))\n",
    "\n",
    "driver.find_element(By.CSS_SELECTOR,r'#account > div > a').click()\n",
    "time.sleep(rd.uniform(0,1.5))\n",
    "\n",
    "\n",
    "# Log In\n",
    "# user_id = str(input('아이디를 입력하세요: '))\n",
    "# user_passwd = str(input('비밀번호를 입력하세요: '))\n",
    "user_id = 'sysconan'\n",
    "user_passwd = '!Brandan0211'\n",
    "\n",
    "driver.find_element(By.CSS_SELECTOR,r'#id_line').click()\n",
    "pyperclip.copy(user_id)\n",
    "ActionChains(driver).key_down(Keys.CONTROL).send_keys('v').key_up(Keys.CONTROL).perform()\n",
    "time.sleep(rd.uniform(0,1.5))\n",
    "\n",
    "driver.find_element(By.CSS_SELECTOR,r'#pw').click()\n",
    "pyperclip.copy(user_passwd)\n",
    "ActionChains(driver).key_down(Keys.CONTROL).send_keys('v').key_up(Keys.CONTROL).perform()\n",
    "time.sleep(rd.uniform(0,1.5))\n",
    "\n",
    "driver.find_element(By.CSS_SELECTOR,r'#log\\.login').click()\n",
    "time.sleep(rd.uniform(0,1.5))\n",
    "\n",
    "# Go To Sports Page\n",
    "driver.execute_script(\"window.scrollTo(100, 0);\")\n",
    "driver.find_element(By.CSS_SELECTOR,r'#shortcutArea > ul > li:nth-child(10) > a').click()\n",
    "driver.find_element(By.CSS_SELECTOR,r'#shortcutArea > div > ul > li:nth-child(9) > a').click()\n",
    "driver.switch_to.window(driver.window_handles[0])\n",
    "driver.close()\n",
    "driver.switch_to.window(driver.window_handles[0])\n",
    "driver.find_element(By.CSS_SELECTOR,r'#lnb_list > li:nth-child(13) > a').click()\n",
    "time.sleep(rd.uniform(0,1.5))\n",
    "\n",
    "# Setting Date\n",
    "driver.find_element(By.CSS_SELECTOR,r'#_calendarToggleBtn').click()\n",
    "driver.find_element(By.CSS_SELECTOR,r'#_yearSelectBtn').click()\n",
    "driver.find_element(By.CSS_SELECTOR,r'#scroll_year > ul > li:nth-child(6) > a').click()\n",
    "month = driver.find_element(By.CSS_SELECTOR,r'span.calendar-title-month.month > em').text\n",
    "month = int(month.lstrip('0'))\n",
    "for m in range(month-1):\n",
    "    driver.find_element(By.CSS_SELECTOR,r'#calendar_layer > div > div.calendar_head > a').click()\n",
    "time.sleep(rd.uniform(0,1.5))\n",
    "driver.find_element(By.CSS_SELECTOR,\n",
    "                    r'tbody > tr:nth-child(1) > td:nth-child(2) > a').click()\n",
    "time.sleep(rd.uniform(0,1.5))\n",
    "\n",
    "# Crawling Titles, Articles, Interested\n",
    "for news in driver.find_elements(By.CSS_SELECTOR, 'li.best'):\n",
    "    news.find_element(By.CSS_SELECTOR, 'a.title').click()\n",
    "    title = driver.find_element(By.CSS_SELECTOR,'h4.title').text\n",
    "    driver.execute_script(\"window.scrollTo(0,document.body.scrollHeight);\")\n",
    "    article = driver.find_element(By.CSS_SELECTOR,'div#newsEndContents')\n",
    "    \n",
    "    # Delete Unnecessary Elements\n",
    "    for div in article.find_elements(By.CSS_SELECTOR,'div'):\n",
    "        div.decompose()\n",
    "        \n",
    "    for p in article.find_elements(By.CSS_SELECTOR,'p'):\n",
    "        p.decompose()\n",
    "        \n",
    "    article = article.text\n",
    "    \n",
    "    print(article)\n",
    "    \n",
    "    # If '이 기사를 추천합니다' button is on, 'Interested' is 1\n",
    "    if driver.find_element(By.CSS_SELECTOR,'a#u_likeit_list_btn.u_type_tomain._button.on'):\n",
    "        interested = 1\n",
    "    else:\n",
    "        interested = 0\n",
    "        \n",
    "    driver.back()"
   ]
  }
 ],
 "metadata": {
  "kernelspec": {
   "display_name": "univ_project",
   "language": "python",
   "name": "univ"
  },
  "language_info": {
   "codemirror_mode": {
    "name": "ipython",
    "version": 3
   },
   "file_extension": ".py",
   "mimetype": "text/x-python",
   "name": "python",
   "nbconvert_exporter": "python",
   "pygments_lexer": "ipython3",
   "version": "3.10.0"
  }
 },
 "nbformat": 4,
 "nbformat_minor": 5
}
