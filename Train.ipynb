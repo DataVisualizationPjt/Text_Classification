{
 "cells": [
  {
   "cell_type": "markdown",
   "id": "52f87985",
   "metadata": {},
   "source": [
    "# Import Library"
   ]
  },
  {
   "cell_type": "code",
   "execution_count": 1,
   "id": "441a1203",
   "metadata": {},
   "outputs": [],
   "source": [
    "import pandas as pd\n",
    "import numpy as np\n",
    "import matplotlib.pyplot as plt\n",
    "import tensorflow as tf\n",
    "from tqdm import tqdm\n",
    "from tensorflow.keras.preprocessing.text import Tokenizer\n",
    "from tensorflow.keras.layers import SimpleRNN, Embedding, Dense\n",
    "from tensorflow.keras.models import Sequential\n",
    "import os\n",
    "\n",
    "from preprocessing.pre_for_train import preprocessing_train as pre_train"
   ]
  },
  {
   "cell_type": "markdown",
   "id": "d1176989",
   "metadata": {},
   "source": [
    "# Load Data"
   ]
  },
  {
   "cell_type": "code",
   "execution_count": 2,
   "id": "63f78bfd",
   "metadata": {},
   "outputs": [
    {
     "data": {
      "text/html": [
       "<div>\n",
       "<style scoped>\n",
       "    .dataframe tbody tr th:only-of-type {\n",
       "        vertical-align: middle;\n",
       "    }\n",
       "\n",
       "    .dataframe tbody tr th {\n",
       "        vertical-align: top;\n",
       "    }\n",
       "\n",
       "    .dataframe thead th {\n",
       "        text-align: right;\n",
       "    }\n",
       "</style>\n",
       "<table border=\"1\" class=\"dataframe\">\n",
       "  <thead>\n",
       "    <tr style=\"text-align: right;\">\n",
       "      <th></th>\n",
       "      <th>date</th>\n",
       "      <th>title</th>\n",
       "      <th>article</th>\n",
       "      <th>interested</th>\n",
       "    </tr>\n",
       "  </thead>\n",
       "  <tbody>\n",
       "    <tr>\n",
       "      <th>0</th>\n",
       "      <td>2018-01-01 00:00:00</td>\n",
       "      <td>레알  베일 현금    토트넘  케인  대형 딜 가능성</td>\n",
       "      <td>홍의택 기자  겨울 이적시장이 문을 연다  대형 거래 가능성도 심심찮게 제기된다...</td>\n",
       "      <td>0</td>\n",
       "    </tr>\n",
       "    <tr>\n",
       "      <th>1</th>\n",
       "      <td>2018-01-01 00:00:00</td>\n",
       "      <td>또 일낸 윤정환의 세레소  기어이  컵 더블  달성</td>\n",
       "      <td>윤정환 감독이 이끄는 세레소 오사카가 2017 일왕배 정상에 올랐다  르방컵 에 ...</td>\n",
       "      <td>0</td>\n",
       "    </tr>\n",
       "    <tr>\n",
       "      <th>2</th>\n",
       "      <td>2018-01-01 00:00:00</td>\n",
       "      <td>일본에 또 이도류  제의 오타니 등장</td>\n",
       "      <td>투수와 타자를 함께한 오타니 쇼헤이 가 떠난 일본에 또 다른 이도류가 등장했다 ...</td>\n",
       "      <td>1</td>\n",
       "    </tr>\n",
       "    <tr>\n",
       "      <th>3</th>\n",
       "      <td>2018-01-01 00:00:00</td>\n",
       "      <td>억 사나이  반 다이크  리버풀 합류    우승 원한다</td>\n",
       "      <td>1083억의 사나이 버질 반 다이크가 리버풀에 공식 합류했다 리버풀은 지난해...</td>\n",
       "      <td>0</td>\n",
       "    </tr>\n",
       "    <tr>\n",
       "      <th>4</th>\n",
       "      <td>2018-01-01 00:00:00</td>\n",
       "      <td>년 보장 아닌 년 계약  양현종에게 전화위복</td>\n",
       "      <td>양현종의 1년 계약  오히려 전화위복이 된다 2018년 새해가 밝았지만 아직 계약을...</td>\n",
       "      <td>0</td>\n",
       "    </tr>\n",
       "    <tr>\n",
       "      <th>...</th>\n",
       "      <td>...</td>\n",
       "      <td>...</td>\n",
       "      <td>...</td>\n",
       "      <td>...</td>\n",
       "    </tr>\n",
       "    <tr>\n",
       "      <th>36225</th>\n",
       "      <td>2022-12-31 00:00:00</td>\n",
       "      <td>병역 기피 논란  석현준  드디어 입 열었다  소속팀서 안 놔줘  정말 오해</td>\n",
       "      <td>석현준  최승섭기자  2년 전 병무청이 발표한 병역기피자명단에 오른 축구국가대표 출...</td>\n",
       "      <td>0</td>\n",
       "    </tr>\n",
       "    <tr>\n",
       "      <th>36226</th>\n",
       "      <td>2022-12-31 00:00:00</td>\n",
       "      <td>바르사에서 년 뛴 선수잖아   영입 선택 옳았어</td>\n",
       "      <td>안토니오 콘테 감독이 클레망 랑글레를 칭찬했다 토트넘 훗스퍼는 오는 1월 1일 오후...</td>\n",
       "      <td>0</td>\n",
       "    </tr>\n",
       "    <tr>\n",
       "      <th>36227</th>\n",
       "      <td>2022-12-31 00:00:00</td>\n",
       "      <td>위기의 남자  김동엽  박진만 감독은 대행 시절  쓰지 않겠다 고 했다</td>\n",
       "      <td>내가 감독 대행을 하는 동안에는 볼 수 없을 것이다  박진만 삼성 감독이 대행 시...</td>\n",
       "      <td>0</td>\n",
       "    </tr>\n",
       "    <tr>\n",
       "      <th>36228</th>\n",
       "      <td>2022-12-31 00:00:00</td>\n",
       "      <td>텐 하흐  이례적 발언 화제    레알 마드리드한테 정말 고맙다</td>\n",
       "      <td>에릭 텐 하흐 맨체스터 유나이티드 감독이 레알 마드리드에 감사 인사를 전한 이유는 ...</td>\n",
       "      <td>0</td>\n",
       "    </tr>\n",
       "    <tr>\n",
       "      <th>36229</th>\n",
       "      <td>2022-12-31 00:00:00</td>\n",
       "      <td>해트트릭할 뻔  리버풀 영입각    멀티 자책골  레스터CB에 조롱댓글 폭발</td>\n",
       "      <td>자책골 해트트릭 하는 줄   벨기에 출신 레스터시티 센터백 바우트 파스의 리버풀전...</td>\n",
       "      <td>0</td>\n",
       "    </tr>\n",
       "  </tbody>\n",
       "</table>\n",
       "<p>36230 rows × 4 columns</p>\n",
       "</div>"
      ],
      "text/plain": [
       "                      date                                       title   \n",
       "0      2018-01-01 00:00:00              레알  베일 현금    토트넘  케인  대형 딜 가능성  \\\n",
       "1      2018-01-01 00:00:00                또 일낸 윤정환의 세레소  기어이  컵 더블  달성   \n",
       "2      2018-01-01 00:00:00                        일본에 또 이도류  제의 오타니 등장   \n",
       "3      2018-01-01 00:00:00              억 사나이  반 다이크  리버풀 합류    우승 원한다   \n",
       "4      2018-01-01 00:00:00                    년 보장 아닌 년 계약  양현종에게 전화위복   \n",
       "...                    ...                                         ...   \n",
       "36225  2022-12-31 00:00:00  병역 기피 논란  석현준  드디어 입 열었다  소속팀서 안 놔줘  정말 오해   \n",
       "36226  2022-12-31 00:00:00                  바르사에서 년 뛴 선수잖아   영입 선택 옳았어   \n",
       "36227  2022-12-31 00:00:00     위기의 남자  김동엽  박진만 감독은 대행 시절  쓰지 않겠다 고 했다   \n",
       "36228  2022-12-31 00:00:00         텐 하흐  이례적 발언 화제    레알 마드리드한테 정말 고맙다   \n",
       "36229  2022-12-31 00:00:00  해트트릭할 뻔  리버풀 영입각    멀티 자책골  레스터CB에 조롱댓글 폭발   \n",
       "\n",
       "                                                 article  interested  \n",
       "0        홍의택 기자  겨울 이적시장이 문을 연다  대형 거래 가능성도 심심찮게 제기된다...           0  \n",
       "1       윤정환 감독이 이끄는 세레소 오사카가 2017 일왕배 정상에 올랐다  르방컵 에 ...           0  \n",
       "2        투수와 타자를 함께한 오타니 쇼헤이 가 떠난 일본에 또 다른 이도류가 등장했다 ...           1  \n",
       "3          1083억의 사나이 버질 반 다이크가 리버풀에 공식 합류했다 리버풀은 지난해...           0  \n",
       "4      양현종의 1년 계약  오히려 전화위복이 된다 2018년 새해가 밝았지만 아직 계약을...           0  \n",
       "...                                                  ...         ...  \n",
       "36225  석현준  최승섭기자  2년 전 병무청이 발표한 병역기피자명단에 오른 축구국가대표 출...           0  \n",
       "36226  안토니오 콘테 감독이 클레망 랑글레를 칭찬했다 토트넘 훗스퍼는 오는 1월 1일 오후...           0  \n",
       "36227   내가 감독 대행을 하는 동안에는 볼 수 없을 것이다  박진만 삼성 감독이 대행 시...           0  \n",
       "36228  에릭 텐 하흐 맨체스터 유나이티드 감독이 레알 마드리드에 감사 인사를 전한 이유는 ...           0  \n",
       "36229   자책골 해트트릭 하는 줄   벨기에 출신 레스터시티 센터백 바우트 파스의 리버풀전...           0  \n",
       "\n",
       "[36230 rows x 4 columns]"
      ]
     },
     "execution_count": 2,
     "metadata": {},
     "output_type": "execute_result"
    }
   ],
   "source": [
    "df = pd.read_csv('./news.csv')\n",
    "df"
   ]
  },
  {
   "cell_type": "markdown",
   "id": "16bfcdb4",
   "metadata": {},
   "source": [
    "# Preprocessing"
   ]
  },
  {
   "cell_type": "markdown",
   "id": "55edccef",
   "metadata": {},
   "source": [
    "## Split Data"
   ]
  },
  {
   "cell_type": "code",
   "execution_count": 3,
   "id": "6d2f6311",
   "metadata": {},
   "outputs": [
    {
     "name": "stdout",
     "output_type": "stream",
     "text": [
      "--------Ratio of Train Data--------\n",
      "Not Interested = 89.605%\n",
      "Interested = 10.395%\n"
     ]
    },
    {
     "name": "stderr",
     "output_type": "stream",
     "text": [
      "100%|███████████████████████████████████████████████████████████████████████████| 36230/36230 [01:10<00:00, 513.65it/s]\n"
     ]
    }
   ],
   "source": [
    "x_train, y_train = pre_train(df['title'], df['interested'], split=False)"
   ]
  },
  {
   "cell_type": "code",
   "execution_count": 4,
   "id": "c43678ef",
   "metadata": {},
   "outputs": [
    {
     "data": {
      "text/plain": [
       "array([[    0,     0,     0, ...,    19,   538,    97],\n",
       "       [    0,     0,     0, ..., 10254,  2211,   809],\n",
       "       [    0,     0,     0, ...,   334,   304,   242],\n",
       "       ...,\n",
       "       [    0,     0,     0, ...,  2607,  1808,    38],\n",
       "       [    0,     0,     0, ...,   571,   244,  2275],\n",
       "       [    0,     0,     0, ...,   455,  1563,    77]])"
      ]
     },
     "execution_count": 4,
     "metadata": {},
     "output_type": "execute_result"
    }
   ],
   "source": [
    "x_train"
   ]
  },
  {
   "cell_type": "code",
   "execution_count": 5,
   "id": "6d3dce4f",
   "metadata": {},
   "outputs": [
    {
     "data": {
      "text/plain": [
       "0        0\n",
       "1        0\n",
       "2        1\n",
       "3        0\n",
       "4        0\n",
       "        ..\n",
       "36225    0\n",
       "36226    0\n",
       "36227    0\n",
       "36228    0\n",
       "36229    0\n",
       "Name: interested, Length: 36230, dtype: int64"
      ]
     },
     "execution_count": 5,
     "metadata": {},
     "output_type": "execute_result"
    }
   ],
   "source": [
    "y_train"
   ]
  },
  {
   "cell_type": "markdown",
   "id": "103a83f5",
   "metadata": {},
   "source": [
    "# Training"
   ]
  },
  {
   "cell_type": "code",
   "execution_count": 6,
   "id": "c601174a",
   "metadata": {
    "scrolled": true
   },
   "outputs": [
    {
     "data": {
      "text/plain": [
       "[name: \"/device:CPU:0\"\n",
       " device_type: \"CPU\"\n",
       " memory_limit: 268435456\n",
       " locality {\n",
       " }\n",
       " incarnation: 17324705288492494035\n",
       " xla_global_id: -1,\n",
       " name: \"/device:GPU:0\"\n",
       " device_type: \"GPU\"\n",
       " memory_limit: 3643801600\n",
       " locality {\n",
       "   bus_id: 1\n",
       "   links {\n",
       "   }\n",
       " }\n",
       " incarnation: 12296703718951805712\n",
       " physical_device_desc: \"device: 0, name: NVIDIA GeForce RTX 3060 Laptop GPU, pci bus id: 0000:01:00.0, compute capability: 8.6\"\n",
       " xla_global_id: 416903419]"
      ]
     },
     "execution_count": 6,
     "metadata": {},
     "output_type": "execute_result"
    }
   ],
   "source": [
    "from tensorflow.python.client import device_lib\n",
    "device_lib.list_local_devices()"
   ]
  },
  {
   "cell_type": "code",
   "execution_count": 7,
   "id": "774a9caf",
   "metadata": {},
   "outputs": [],
   "source": [
    "os.environ[\"CUDA_VISIBLE_DEVICES\"] = \"0\""
   ]
  },
  {
   "cell_type": "code",
   "execution_count": 8,
   "id": "4d0a945e",
   "metadata": {},
   "outputs": [
    {
     "ename": "NameError",
     "evalue": "name 'X_train' is not defined",
     "output_type": "error",
     "traceback": [
      "\u001b[1;31m---------------------------------------------------------------------------\u001b[0m",
      "\u001b[1;31mNameError\u001b[0m                                 Traceback (most recent call last)",
      "Cell \u001b[1;32mIn[8], line 2\u001b[0m\n\u001b[0;32m      1\u001b[0m tokenizer \u001b[38;5;241m=\u001b[39m Tokenizer()\n\u001b[1;32m----> 2\u001b[0m tokenizer\u001b[38;5;241m.\u001b[39mfit_on_texts(\u001b[43mX_train\u001b[49m)\n\u001b[0;32m      3\u001b[0m word_to_index \u001b[38;5;241m=\u001b[39m tokenizer\u001b[38;5;241m.\u001b[39mword_index\n\u001b[0;32m      4\u001b[0m vocab_size \u001b[38;5;241m=\u001b[39m \u001b[38;5;28mlen\u001b[39m(word_to_index) \u001b[38;5;241m+\u001b[39m \u001b[38;5;241m1\u001b[39m\n",
      "\u001b[1;31mNameError\u001b[0m: name 'X_train' is not defined"
     ]
    }
   ],
   "source": [
    "tokenizer = Tokenizer()\n",
    "tokenizer.fit_on_texts(X_train)\n",
    "word_to_index = tokenizer.word_index\n",
    "vocab_size = len(word_to_index) + 1\n",
    "vocab_size"
   ]
  },
  {
   "cell_type": "code",
   "execution_count": 59,
   "id": "26377b58",
   "metadata": {},
   "outputs": [],
   "source": [
    "embedding_dim = 32\n",
    "hidden_units = 32\n",
    "\n",
    "model = Sequential()\n",
    "model.add(Embedding(vocab_size, embedding_dim))\n",
    "model.add(SimpleRNN(hidden_units))\n",
    "model.add(Dense(1, activation='softmax'))\n",
    "\n",
    "model.compile(optimizer='rmsprop', loss='binary_crossentropy', metrics=['accuracy'])\n",
    "\n",
    "callbacks = [tf.keras.callbacks.EarlyStopping(monitor='val_loss',patience=5, mode='min'),\n",
    "             tf.keras.callbacks.ModelCheckpoint('./best.h5', monitor='val_loss', save_best_only=True, mode='min')\n",
    "            ]"
   ]
  },
  {
   "cell_type": "code",
   "execution_count": null,
   "id": "b8d0c47e",
   "metadata": {},
   "outputs": [
    {
     "name": "stdout",
     "output_type": "stream",
     "text": [
      "Epoch 1/100\n",
      "6159/6159 [==============================] - 172s 28ms/step - loss: 0.2923 - accuracy: 0.1040 - val_loss: 0.2515 - val_accuracy: 0.1037\n",
      "Epoch 2/100\n",
      "6159/6159 [==============================] - 178s 29ms/step - loss: 0.2402 - accuracy: 0.1040 - val_loss: 0.2355 - val_accuracy: 0.1037\n",
      "Epoch 3/100\n",
      "6159/6159 [==============================] - 166s 27ms/step - loss: 0.2213 - accuracy: 0.1040 - val_loss: 0.2343 - val_accuracy: 0.1037\n",
      "Epoch 4/100\n",
      "6159/6159 [==============================] - 169s 27ms/step - loss: 0.2045 - accuracy: 0.1040 - val_loss: 0.2627 - val_accuracy: 0.1037\n",
      "Epoch 5/100\n",
      "6159/6159 [==============================] - 165s 27ms/step - loss: 0.1854 - accuracy: 0.1040 - val_loss: 0.2634 - val_accuracy: 0.1037\n",
      "Epoch 6/100\n",
      " 138/6159 [..............................] - ETA: 2:33 - loss: 0.1593 - accuracy: 0.1033"
     ]
    }
   ],
   "source": [
    "history = model.fit(x_train, y_train, epochs=100, batch_size=4, validation_split=0.15, callbacks=callbacks)"
   ]
  },
  {
   "cell_type": "markdown",
   "id": "bd19253c",
   "metadata": {},
   "source": [
    "# Evaluate"
   ]
  },
  {
   "cell_type": "code",
   "execution_count": 19,
   "id": "2ca73cb2",
   "metadata": {},
   "outputs": [
    {
     "name": "stderr",
     "output_type": "stream",
     "text": [
      "100%|█████████████████████████████████████████████████████████████████████████████| 7246/7246 [00:11<00:00, 612.20it/s]\n"
     ]
    }
   ],
   "source": [
    "x_test = pre_train(X_test,stopwords)"
   ]
  },
  {
   "cell_type": "code",
   "execution_count": 57,
   "id": "b19bb645",
   "metadata": {},
   "outputs": [
    {
     "name": "stdout",
     "output_type": "stream",
     "text": [
      "227/227 [==============================] - 2s 9ms/step - loss: 0.9303 - accuracy: 0.6975\n",
      "\n",
      " 테스트 정확도: 0.6975\n"
     ]
    }
   ],
   "source": [
    "print(\"\\n 테스트 정확도: %.4f\" % (model.evaluate(x_test, y_test)[1]))"
   ]
  },
  {
   "cell_type": "code",
   "execution_count": 58,
   "id": "0f30c282",
   "metadata": {},
   "outputs": [
    {
     "data": {
      "image/png": "[encoded data removed]",
      "text/plain": [
       "<Figure size 640x480 with 1 Axes>"
      ]
     },
     "metadata": {},
     "output_type": "display_data"
    }
   ],
   "source": [
    "epochs = range(1, len(history.history['accuracy']) + 1)\n",
    "plt.plot(epochs, history.history['loss'])\n",
    "plt.plot(epochs, history.history['val_loss'])\n",
    "plt.title('model loss')\n",
    "plt.ylabel('loss')\n",
    "plt.xlabel('epoch')\n",
    "plt.legend(['train', 'val'], loc='upper left')\n",
    "plt.show()"
   ]
  },
  {
   "cell_type": "code",
   "execution_count": null,
   "id": "9a26fb6c",
   "metadata": {},
   "outputs": [],
   "source": []
  }
 ],
 "metadata": {
  "kernelspec": {
   "display_name": "univ_project",
   "language": "python",
   "name": "univ"
  },
  "language_info": {
   "codemirror_mode": {
    "name": "ipython",
    "version": 3
   },
   "file_extension": ".py",
   "mimetype": "text/x-python",
   "name": "python",
   "nbconvert_exporter": "python",
   "pygments_lexer": "ipython3",
   "version": "3.10.0"
  }
 },
 "nbformat": 4,
 "nbformat_minor": 5
}
