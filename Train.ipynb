{
 "cells": [
  {
   "cell_type": "markdown",
   "id": "52f87985",
   "metadata": {},
   "source": [
    "# Import Library"
   ]
  },
  {
   "cell_type": "code",
   "execution_count": 3,
   "id": "441a1203",
   "metadata": {},
   "outputs": [],
   "source": [
    "import pandas as pd\n",
    "import numpy as np\n",
    "import matplotlib.pyplot as plt\n",
    "import tensorflow as tf\n",
    "from tqdm import tqdm\n",
    "from tensorflow.keras.preprocessing.text import Tokenizer\n",
    "from tensorflow.keras.layers import SimpleRNN, Embedding, Dense\n",
    "from tensorflow.keras.models import Sequential\n",
    "import os\n",
    "from tensorflow.keras.models import Sequential, Model\n",
    "from tensorflow.keras.layers import Embedding, Dropout, Conv1D, GlobalMaxPooling1D, Dense, Input, Flatten, Concatenate\n",
    "from tensorflow.keras.callbacks import EarlyStopping, ModelCheckpoint\n",
    "from tensorflow.keras.models import load_model\n",
    "from IPython.display import SVG\n",
    "from keras.utils.vis_utils import model_to_dot\n",
    "from keras.utils.vis_utils import plot_model\n",
    "\n",
    "from news_classify.pre_for_train import preprocessing_train as pre_train\n",
    "from sklearn.metrics import accuracy_score"
   ]
  },
  {
   "cell_type": "markdown",
   "id": "d1176989",
   "metadata": {},
   "source": [
    "# Load Data"
   ]
  },
  {
   "cell_type": "code",
   "execution_count": 4,
   "id": "63f78bfd",
   "metadata": {},
   "outputs": [
    {
     "data": {
      "text/html": [
       "<div>\n",
       "<style scoped>\n",
       "    .dataframe tbody tr th:only-of-type {\n",
       "        vertical-align: middle;\n",
       "    }\n",
       "\n",
       "    .dataframe tbody tr th {\n",
       "        vertical-align: top;\n",
       "    }\n",
       "\n",
       "    .dataframe thead th {\n",
       "        text-align: right;\n",
       "    }\n",
       "</style>\n",
       "<table border=\"1\" class=\"dataframe\">\n",
       "  <thead>\n",
       "    <tr style=\"text-align: right;\">\n",
       "      <th></th>\n",
       "      <th>date</th>\n",
       "      <th>title</th>\n",
       "      <th>article</th>\n",
       "      <th>interested</th>\n",
       "    </tr>\n",
       "  </thead>\n",
       "  <tbody>\n",
       "    <tr>\n",
       "      <th>0</th>\n",
       "      <td>2018-01-01 00:00:00</td>\n",
       "      <td>레알  베일 현금    토트넘  케인  대형 딜 가능성</td>\n",
       "      <td>홍의택 기자  겨울 이적시장이 문을 연다  대형 거래 가능성도 심심찮게 제기된다...</td>\n",
       "      <td>0</td>\n",
       "    </tr>\n",
       "    <tr>\n",
       "      <th>1</th>\n",
       "      <td>2018-01-01 00:00:00</td>\n",
       "      <td>또 일낸 윤정환의 세레소  기어이  컵 더블  달성</td>\n",
       "      <td>윤정환 감독이 이끄는 세레소 오사카가 2017 일왕배 정상에 올랐다  르방컵 에 ...</td>\n",
       "      <td>0</td>\n",
       "    </tr>\n",
       "    <tr>\n",
       "      <th>2</th>\n",
       "      <td>2018-01-01 00:00:00</td>\n",
       "      <td>일본에 또 이도류  제의 오타니 등장</td>\n",
       "      <td>투수와 타자를 함께한 오타니 쇼헤이 가 떠난 일본에 또 다른 이도류가 등장했다 ...</td>\n",
       "      <td>1</td>\n",
       "    </tr>\n",
       "    <tr>\n",
       "      <th>3</th>\n",
       "      <td>2018-01-01 00:00:00</td>\n",
       "      <td>억 사나이  반 다이크  리버풀 합류    우승 원한다</td>\n",
       "      <td>1083억의 사나이 버질 반 다이크가 리버풀에 공식 합류했다 리버풀은 지난해...</td>\n",
       "      <td>0</td>\n",
       "    </tr>\n",
       "    <tr>\n",
       "      <th>4</th>\n",
       "      <td>2018-01-01 00:00:00</td>\n",
       "      <td>년 보장 아닌 년 계약  양현종에게 전화위복</td>\n",
       "      <td>양현종의 1년 계약  오히려 전화위복이 된다 2018년 새해가 밝았지만 아직 계약을...</td>\n",
       "      <td>0</td>\n",
       "    </tr>\n",
       "    <tr>\n",
       "      <th>...</th>\n",
       "      <td>...</td>\n",
       "      <td>...</td>\n",
       "      <td>...</td>\n",
       "      <td>...</td>\n",
       "    </tr>\n",
       "    <tr>\n",
       "      <th>36225</th>\n",
       "      <td>2022-12-31 00:00:00</td>\n",
       "      <td>병역 기피 논란  석현준  드디어 입 열었다  소속팀서 안 놔줘  정말 오해</td>\n",
       "      <td>석현준  최승섭기자  2년 전 병무청이 발표한 병역기피자명단에 오른 축구국가대표 출...</td>\n",
       "      <td>0</td>\n",
       "    </tr>\n",
       "    <tr>\n",
       "      <th>36226</th>\n",
       "      <td>2022-12-31 00:00:00</td>\n",
       "      <td>바르사에서 년 뛴 선수잖아   영입 선택 옳았어</td>\n",
       "      <td>안토니오 콘테 감독이 클레망 랑글레를 칭찬했다 토트넘 훗스퍼는 오는 1월 1일 오후...</td>\n",
       "      <td>0</td>\n",
       "    </tr>\n",
       "    <tr>\n",
       "      <th>36227</th>\n",
       "      <td>2022-12-31 00:00:00</td>\n",
       "      <td>위기의 남자  김동엽  박진만 감독은 대행 시절  쓰지 않겠다 고 했다</td>\n",
       "      <td>내가 감독 대행을 하는 동안에는 볼 수 없을 것이다  박진만 삼성 감독이 대행 시...</td>\n",
       "      <td>0</td>\n",
       "    </tr>\n",
       "    <tr>\n",
       "      <th>36228</th>\n",
       "      <td>2022-12-31 00:00:00</td>\n",
       "      <td>텐 하흐  이례적 발언 화제    레알 마드리드한테 정말 고맙다</td>\n",
       "      <td>에릭 텐 하흐 맨체스터 유나이티드 감독이 레알 마드리드에 감사 인사를 전한 이유는 ...</td>\n",
       "      <td>0</td>\n",
       "    </tr>\n",
       "    <tr>\n",
       "      <th>36229</th>\n",
       "      <td>2022-12-31 00:00:00</td>\n",
       "      <td>해트트릭할 뻔  리버풀 영입각    멀티 자책골  레스터CB에 조롱댓글 폭발</td>\n",
       "      <td>자책골 해트트릭 하는 줄   벨기에 출신 레스터시티 센터백 바우트 파스의 리버풀전...</td>\n",
       "      <td>0</td>\n",
       "    </tr>\n",
       "  </tbody>\n",
       "</table>\n",
       "<p>36230 rows × 4 columns</p>\n",
       "</div>"
      ],
      "text/plain": [
       "                      date                                       title   \n",
       "0      2018-01-01 00:00:00              레알  베일 현금    토트넘  케인  대형 딜 가능성  \\\n",
       "1      2018-01-01 00:00:00                또 일낸 윤정환의 세레소  기어이  컵 더블  달성   \n",
       "2      2018-01-01 00:00:00                        일본에 또 이도류  제의 오타니 등장   \n",
       "3      2018-01-01 00:00:00              억 사나이  반 다이크  리버풀 합류    우승 원한다   \n",
       "4      2018-01-01 00:00:00                    년 보장 아닌 년 계약  양현종에게 전화위복   \n",
       "...                    ...                                         ...   \n",
       "36225  2022-12-31 00:00:00  병역 기피 논란  석현준  드디어 입 열었다  소속팀서 안 놔줘  정말 오해   \n",
       "36226  2022-12-31 00:00:00                  바르사에서 년 뛴 선수잖아   영입 선택 옳았어   \n",
       "36227  2022-12-31 00:00:00     위기의 남자  김동엽  박진만 감독은 대행 시절  쓰지 않겠다 고 했다   \n",
       "36228  2022-12-31 00:00:00         텐 하흐  이례적 발언 화제    레알 마드리드한테 정말 고맙다   \n",
       "36229  2022-12-31 00:00:00  해트트릭할 뻔  리버풀 영입각    멀티 자책골  레스터CB에 조롱댓글 폭발   \n",
       "\n",
       "                                                 article  interested  \n",
       "0        홍의택 기자  겨울 이적시장이 문을 연다  대형 거래 가능성도 심심찮게 제기된다...           0  \n",
       "1       윤정환 감독이 이끄는 세레소 오사카가 2017 일왕배 정상에 올랐다  르방컵 에 ...           0  \n",
       "2        투수와 타자를 함께한 오타니 쇼헤이 가 떠난 일본에 또 다른 이도류가 등장했다 ...           1  \n",
       "3          1083억의 사나이 버질 반 다이크가 리버풀에 공식 합류했다 리버풀은 지난해...           0  \n",
       "4      양현종의 1년 계약  오히려 전화위복이 된다 2018년 새해가 밝았지만 아직 계약을...           0  \n",
       "...                                                  ...         ...  \n",
       "36225  석현준  최승섭기자  2년 전 병무청이 발표한 병역기피자명단에 오른 축구국가대표 출...           0  \n",
       "36226  안토니오 콘테 감독이 클레망 랑글레를 칭찬했다 토트넘 훗스퍼는 오는 1월 1일 오후...           0  \n",
       "36227   내가 감독 대행을 하는 동안에는 볼 수 없을 것이다  박진만 삼성 감독이 대행 시...           0  \n",
       "36228  에릭 텐 하흐 맨체스터 유나이티드 감독이 레알 마드리드에 감사 인사를 전한 이유는 ...           0  \n",
       "36229   자책골 해트트릭 하는 줄   벨기에 출신 레스터시티 센터백 바우트 파스의 리버풀전...           0  \n",
       "\n",
       "[36230 rows x 4 columns]"
      ]
     },
     "execution_count": 4,
     "metadata": {},
     "output_type": "execute_result"
    }
   ],
   "source": [
    "df = pd.read_csv('./news.csv')\n",
    "df"
   ]
  },
  {
   "cell_type": "markdown",
   "id": "16bfcdb4",
   "metadata": {},
   "source": [
    "# Preprocessing"
   ]
  },
  {
   "cell_type": "markdown",
   "id": "55edccef",
   "metadata": {},
   "source": [
    "## Split Data"
   ]
  },
  {
   "cell_type": "code",
   "execution_count": 5,
   "id": "6d2f6311",
   "metadata": {},
   "outputs": [
    {
     "name": "stderr",
     "output_type": "stream",
     "text": [
      "100%|███████████████████████████████████████████████████████████████████████████| 28984/28984 [01:01<00:00, 470.48it/s]\n",
      "100%|█████████████████████████████████████████████████████████████████████████████| 7246/7246 [00:11<00:00, 654.63it/s]\n"
     ]
    }
   ],
   "source": [
    "x_train, x_val, y_train, y_val = pre_train(df['title'], df['interested'], split=True)"
   ]
  },
  {
   "cell_type": "code",
   "execution_count": 6,
   "id": "6ce9dcf4",
   "metadata": {},
   "outputs": [
    {
     "data": {
      "text/html": [
       "<div>\n",
       "<style scoped>\n",
       "    .dataframe tbody tr th:only-of-type {\n",
       "        vertical-align: middle;\n",
       "    }\n",
       "\n",
       "    .dataframe tbody tr th {\n",
       "        vertical-align: top;\n",
       "    }\n",
       "\n",
       "    .dataframe thead th {\n",
       "        text-align: right;\n",
       "    }\n",
       "</style>\n",
       "<table border=\"1\" class=\"dataframe\">\n",
       "  <thead>\n",
       "    <tr style=\"text-align: right;\">\n",
       "      <th></th>\n",
       "      <th>date</th>\n",
       "      <th>title</th>\n",
       "      <th>article</th>\n",
       "      <th>interested</th>\n",
       "      <th>link</th>\n",
       "    </tr>\n",
       "  </thead>\n",
       "  <tbody>\n",
       "    <tr>\n",
       "      <th>0</th>\n",
       "      <td>2023.06.12</td>\n",
       "      <td>토트넘 거절하고 UCL 뛴다더니…그 팀이야?→'제2의 호날두' 깜짝 행보+SON·이...</td>\n",
       "      <td>(엑스포츠뉴스 나승우 기자) 감독과 불화로 첼시로 임대 중인 아틀레티코 마드리드 공...</td>\n",
       "      <td>0</td>\n",
       "      <td>https://sports.news.naver.com/news?oid=311&amp;aid...</td>\n",
       "    </tr>\n",
       "    <tr>\n",
       "      <th>1</th>\n",
       "      <td>2023.06.12</td>\n",
       "      <td>맨유 에이스, 마이애미에서 무슨 일?...새벽 5시에 호텔행 포착 '충격'→'조강지...</td>\n",
       "      <td>[마이데일리 = 김성호 기자]잉글랜드 프리미어 리그 맨체스터 유나이티드 에이스 마커...</td>\n",
       "      <td>0</td>\n",
       "      <td>https://sports.news.naver.com/news?oid=117&amp;aid...</td>\n",
       "    </tr>\n",
       "    <tr>\n",
       "      <th>2</th>\n",
       "      <td>2023.06.12</td>\n",
       "      <td>[오피셜] AS 로마, FA로 아우아르 영입 완료...'2028년까지 5년 계약'</td>\n",
       "      <td>AS로마가 후셈 아우아르(24)를 영입했다.로마는 11일(한국시간) 구단 홈페이지를...</td>\n",
       "      <td>0</td>\n",
       "      <td>https://sports.news.naver.com/news?oid=413&amp;aid...</td>\n",
       "    </tr>\n",
       "    <tr>\n",
       "      <th>3</th>\n",
       "      <td>2023.06.12</td>\n",
       "      <td>포체티노가 인정한 세계 최고 중 한 명…\"레알과 영입 경쟁한다\"</td>\n",
       "      <td>[스포티비뉴스=이민재 기자] 인터 밀란의 라우타로 마르티네스(25)가 여러 구단의 ...</td>\n",
       "      <td>1</td>\n",
       "      <td>https://sports.news.naver.com/news?oid=477&amp;aid...</td>\n",
       "    </tr>\n",
       "    <tr>\n",
       "      <th>4</th>\n",
       "      <td>2023.06.12</td>\n",
       "      <td>'4이닝 퍼펙트→QS 승리' 대표팀 투수, 왜 \"죄책감 느꼈다\" 했을까</td>\n",
       "      <td>[OSEN=잠실, 한용섭 기자] 두산 투수 곽빈이 11일 만에 복귀전에서 QS 피칭...</td>\n",
       "      <td>1</td>\n",
       "      <td>https://sports.news.naver.com/news?oid=109&amp;aid...</td>\n",
       "    </tr>\n",
       "    <tr>\n",
       "      <th>5</th>\n",
       "      <td>2023.06.12</td>\n",
       "      <td>\"뭉클하네요\" 현실이 된 강민호의 예언…삼성 이적 후 처음→14년만의 끝내기포 '손...</td>\n",
       "      <td>[대구=스포츠조선 김영록 기자] \"(딸)하이야! 아빠가 홈런 치고 온다 그랬잖아!\"...</td>\n",
       "      <td>0</td>\n",
       "      <td>https://sports.news.naver.com/news?oid=076&amp;aid...</td>\n",
       "    </tr>\n",
       "    <tr>\n",
       "      <th>6</th>\n",
       "      <td>2023.06.12</td>\n",
       "      <td>'임대 대신 완전 이적으로' 맨유 떠난다…\"토트넘 제안 없었다\"</td>\n",
       "      <td>[스포티비뉴스=이민재 기자] 맨체스터 유나이티드의 해리 매과이어(30)가 올여름 팀...</td>\n",
       "      <td>0</td>\n",
       "      <td>https://sports.news.naver.com/news?oid=477&amp;aid...</td>\n",
       "    </tr>\n",
       "    <tr>\n",
       "      <th>7</th>\n",
       "      <td>2023.06.12</td>\n",
       "      <td>\"저는 아이스크림 사 먹을 1600원도 없었습니다\"</td>\n",
       "      <td>[마이데일리 = 최용재 기자]잉글랜드 프리미어리그(EPL) 맨체스터 시티가 유럽의 ...</td>\n",
       "      <td>0</td>\n",
       "      <td>https://sports.news.naver.com/news?oid=117&amp;aid...</td>\n",
       "    </tr>\n",
       "    <tr>\n",
       "      <th>8</th>\n",
       "      <td>2023.06.12</td>\n",
       "      <td>‘아! 또 홈런에 당하다니…’ 롯데, 삼성에 연장 10회 끝내기 홈런 4-6 패…2...</td>\n",
       "      <td>삼성 강민호에 10회 끝내기 투런포 허용 4-69회 추격 타점·10회 역전 홈런 불...</td>\n",
       "      <td>0</td>\n",
       "      <td>https://sports.news.naver.com/news?oid=082&amp;aid...</td>\n",
       "    </tr>\n",
       "    <tr>\n",
       "      <th>9</th>\n",
       "      <td>2023.06.12</td>\n",
       "      <td>‘이정후 4안타 6출루+임병욱 3안타 1홈런’ 키움, 18안타 대폭발…KT 잡고 8...</td>\n",
       "      <td>[OSEN=수원, 길준영 기자] 키움 히어로즈가 2연승을 달리며 주말 3연전 위닝시...</td>\n",
       "      <td>0</td>\n",
       "      <td>https://sports.news.naver.com/news?oid=109&amp;aid...</td>\n",
       "    </tr>\n",
       "    <tr>\n",
       "      <th>10</th>\n",
       "      <td>2023.06.12</td>\n",
       "      <td>[k1.interview] '어쩌면 마지막 홈경기' 황의조, \"거취? 아직 들은 것...</td>\n",
       "      <td>[포포투=정지훈(상암)]어쩌면 마지막 홈경기다. 황의조가 전매특허인 감아 차기로 득...</td>\n",
       "      <td>0</td>\n",
       "      <td>https://sports.news.naver.com/news?oid=411&amp;aid...</td>\n",
       "    </tr>\n",
       "    <tr>\n",
       "      <th>11</th>\n",
       "      <td>2023.06.12</td>\n",
       "      <td>[U20월드컵] '주가 상승' 배준호 \"3·4위는 천지 차이…메달 가져갈게요\"</td>\n",
       "      <td>\"몸 상태·체력 많이 올라와…골 넣을 때 된 것 같아\"밝은 표정으로 취재진 질문 답...</td>\n",
       "      <td>0</td>\n",
       "      <td>https://sports.news.naver.com/news?oid=001&amp;aid...</td>\n",
       "    </tr>\n",
       "    <tr>\n",
       "      <th>12</th>\n",
       "      <td>2023.06.12</td>\n",
       "      <td>'마라도나-호나우두도 실패했다'→챔스 우승 없는 역대 베스트11</td>\n",
       "      <td>[마이데일리 = 김종국 기자] 챔피언스리그 우승 트로피가 없는 역대 베스트11이 주...</td>\n",
       "      <td>0</td>\n",
       "      <td>https://sports.news.naver.com/news?oid=117&amp;aid...</td>\n",
       "    </tr>\n",
       "    <tr>\n",
       "      <th>13</th>\n",
       "      <td>2023.06.12</td>\n",
       "      <td>불의의 발목 부상→복귀 후 8푼대였는데…끝내기 패에도 빛난 시즌 첫 3안타, 황보르...</td>\n",
       "      <td>황보르기니가 돌아왔다.롯데 자이언츠 외야수 황성빈은 4월 한 달간 타율 0.353 ...</td>\n",
       "      <td>0</td>\n",
       "      <td>https://sports.news.naver.com/news?oid=410&amp;aid...</td>\n",
       "    </tr>\n",
       "    <tr>\n",
       "      <th>14</th>\n",
       "      <td>2023.06.12</td>\n",
       "      <td>아직은 메시 '8발롱' 유력...발롱도르 파워랭킹 1위 '월드컵 위너' 메시, 2위...</td>\n",
       "      <td>[포포투=오종헌]리오넬 메시는 여전히 발롱도르 수상 유력 후보다.글로벌 매체 '골닷...</td>\n",
       "      <td>0</td>\n",
       "      <td>https://sports.news.naver.com/news?oid=411&amp;aid...</td>\n",
       "    </tr>\n",
       "    <tr>\n",
       "      <th>15</th>\n",
       "      <td>2023.06.12</td>\n",
       "      <td>\"3위는 우리의 것\" 김은중호, 이스라엘전 출격</td>\n",
       "      <td>00:00 | 01:37자막자막화질 선택 옵션자동[앵커]20세 이하 월드컵에 출전한...</td>\n",
       "      <td>0</td>\n",
       "      <td>https://sports.news.naver.com/news?oid=422&amp;aid...</td>\n",
       "    </tr>\n",
       "    <tr>\n",
       "      <th>16</th>\n",
       "      <td>2023.06.12</td>\n",
       "      <td>'조규성 멀티골' 전북, 강원에 2:1 역전승...5위 점프</td>\n",
       "      <td>조규성이 멀티골을 터뜨렸다. 전북 현대가 승리했다.전북은 11일 춘천송암스포츠타운에...</td>\n",
       "      <td>0</td>\n",
       "      <td>https://sports.news.naver.com/news?oid=472&amp;aid...</td>\n",
       "    </tr>\n",
       "    <tr>\n",
       "      <th>17</th>\n",
       "      <td>2023.06.12</td>\n",
       "      <td>'챔스 우승' CB 온다!…확 달라지는 토트넘, 'NEW 베스트11' 공개→손·케·...</td>\n",
       "      <td>(엑스포츠뉴스 나승우 기자) 다음 시즌 토트넘 홋스퍼의 베스트 11이 확 달라질 예...</td>\n",
       "      <td>1</td>\n",
       "      <td>https://sports.news.naver.com/news?oid=311&amp;aid...</td>\n",
       "    </tr>\n",
       "    <tr>\n",
       "      <th>18</th>\n",
       "      <td>2023.06.12</td>\n",
       "      <td>'조규성 멀티골' 전북, 강원에 2-1 역전승…3연승·5위 도약</td>\n",
       "      <td>서울-포항, 수원-인천은 무승부프로축구 K리그1 전북 현대가 조규성의 맹활약을 앞세...</td>\n",
       "      <td>0</td>\n",
       "      <td>https://sports.news.naver.com/news?oid=031&amp;aid...</td>\n",
       "    </tr>\n",
       "    <tr>\n",
       "      <th>19</th>\n",
       "      <td>2023.06.12</td>\n",
       "      <td>생애 첫 만루 홈런, 내친김에 두 방 노렸던 문보경 \"욕심 때문에 결과가…\"</td>\n",
       "      <td>[OSEN=대전, 이상학 기자] LG 3루수 문보경(23)이 데뷔 첫 만루 홈런과 ...</td>\n",
       "      <td>0</td>\n",
       "      <td>https://sports.news.naver.com/news?oid=109&amp;aid...</td>\n",
       "    </tr>\n",
       "  </tbody>\n",
       "</table>\n",
       "</div>"
      ],
      "text/plain": [
       "          date                                              title   \n",
       "0   2023.06.12  토트넘 거절하고 UCL 뛴다더니…그 팀이야?→'제2의 호날두' 깜짝 행보+SON·이...  \\\n",
       "1   2023.06.12  맨유 에이스, 마이애미에서 무슨 일?...새벽 5시에 호텔행 포착 '충격'→'조강지...   \n",
       "2   2023.06.12      [오피셜] AS 로마, FA로 아우아르 영입 완료...'2028년까지 5년 계약'   \n",
       "3   2023.06.12                포체티노가 인정한 세계 최고 중 한 명…\"레알과 영입 경쟁한다\"   \n",
       "4   2023.06.12            '4이닝 퍼펙트→QS 승리' 대표팀 투수, 왜 \"죄책감 느꼈다\" 했을까   \n",
       "5   2023.06.12  \"뭉클하네요\" 현실이 된 강민호의 예언…삼성 이적 후 처음→14년만의 끝내기포 '손...   \n",
       "6   2023.06.12                '임대 대신 완전 이적으로' 맨유 떠난다…\"토트넘 제안 없었다\"   \n",
       "7   2023.06.12                       \"저는 아이스크림 사 먹을 1600원도 없었습니다\"   \n",
       "8   2023.06.12  ‘아! 또 홈런에 당하다니…’ 롯데, 삼성에 연장 10회 끝내기 홈런 4-6 패…2...   \n",
       "9   2023.06.12  ‘이정후 4안타 6출루+임병욱 3안타 1홈런’ 키움, 18안타 대폭발…KT 잡고 8...   \n",
       "10  2023.06.12  [k1.interview] '어쩌면 마지막 홈경기' 황의조, \"거취? 아직 들은 것...   \n",
       "11  2023.06.12        [U20월드컵] '주가 상승' 배준호 \"3·4위는 천지 차이…메달 가져갈게요\"   \n",
       "12  2023.06.12                '마라도나-호나우두도 실패했다'→챔스 우승 없는 역대 베스트11   \n",
       "13  2023.06.12  불의의 발목 부상→복귀 후 8푼대였는데…끝내기 패에도 빛난 시즌 첫 3안타, 황보르...   \n",
       "14  2023.06.12  아직은 메시 '8발롱' 유력...발롱도르 파워랭킹 1위 '월드컵 위너' 메시, 2위...   \n",
       "15  2023.06.12                         \"3위는 우리의 것\" 김은중호, 이스라엘전 출격   \n",
       "16  2023.06.12                  '조규성 멀티골' 전북, 강원에 2:1 역전승...5위 점프   \n",
       "17  2023.06.12  '챔스 우승' CB 온다!…확 달라지는 토트넘, 'NEW 베스트11' 공개→손·케·...   \n",
       "18  2023.06.12                '조규성 멀티골' 전북, 강원에 2-1 역전승…3연승·5위 도약   \n",
       "19  2023.06.12         생애 첫 만루 홈런, 내친김에 두 방 노렸던 문보경 \"욕심 때문에 결과가…\"   \n",
       "\n",
       "                                              article  interested   \n",
       "0   (엑스포츠뉴스 나승우 기자) 감독과 불화로 첼시로 임대 중인 아틀레티코 마드리드 공...           0  \\\n",
       "1   [마이데일리 = 김성호 기자]잉글랜드 프리미어 리그 맨체스터 유나이티드 에이스 마커...           0   \n",
       "2   AS로마가 후셈 아우아르(24)를 영입했다.로마는 11일(한국시간) 구단 홈페이지를...           0   \n",
       "3   [스포티비뉴스=이민재 기자] 인터 밀란의 라우타로 마르티네스(25)가 여러 구단의 ...           1   \n",
       "4   [OSEN=잠실, 한용섭 기자] 두산 투수 곽빈이 11일 만에 복귀전에서 QS 피칭...           1   \n",
       "5   [대구=스포츠조선 김영록 기자] \"(딸)하이야! 아빠가 홈런 치고 온다 그랬잖아!\"...           0   \n",
       "6   [스포티비뉴스=이민재 기자] 맨체스터 유나이티드의 해리 매과이어(30)가 올여름 팀...           0   \n",
       "7   [마이데일리 = 최용재 기자]잉글랜드 프리미어리그(EPL) 맨체스터 시티가 유럽의 ...           0   \n",
       "8   삼성 강민호에 10회 끝내기 투런포 허용 4-69회 추격 타점·10회 역전 홈런 불...           0   \n",
       "9   [OSEN=수원, 길준영 기자] 키움 히어로즈가 2연승을 달리며 주말 3연전 위닝시...           0   \n",
       "10  [포포투=정지훈(상암)]어쩌면 마지막 홈경기다. 황의조가 전매특허인 감아 차기로 득...           0   \n",
       "11  \"몸 상태·체력 많이 올라와…골 넣을 때 된 것 같아\"밝은 표정으로 취재진 질문 답...           0   \n",
       "12  [마이데일리 = 김종국 기자] 챔피언스리그 우승 트로피가 없는 역대 베스트11이 주...           0   \n",
       "13  황보르기니가 돌아왔다.롯데 자이언츠 외야수 황성빈은 4월 한 달간 타율 0.353 ...           0   \n",
       "14  [포포투=오종헌]리오넬 메시는 여전히 발롱도르 수상 유력 후보다.글로벌 매체 '골닷...           0   \n",
       "15  00:00 | 01:37자막자막화질 선택 옵션자동[앵커]20세 이하 월드컵에 출전한...           0   \n",
       "16  조규성이 멀티골을 터뜨렸다. 전북 현대가 승리했다.전북은 11일 춘천송암스포츠타운에...           0   \n",
       "17  (엑스포츠뉴스 나승우 기자) 다음 시즌 토트넘 홋스퍼의 베스트 11이 확 달라질 예...           1   \n",
       "18  서울-포항, 수원-인천은 무승부프로축구 K리그1 전북 현대가 조규성의 맹활약을 앞세...           0   \n",
       "19  [OSEN=대전, 이상학 기자] LG 3루수 문보경(23)이 데뷔 첫 만루 홈런과 ...           0   \n",
       "\n",
       "                                                 link  \n",
       "0   https://sports.news.naver.com/news?oid=311&aid...  \n",
       "1   https://sports.news.naver.com/news?oid=117&aid...  \n",
       "2   https://sports.news.naver.com/news?oid=413&aid...  \n",
       "3   https://sports.news.naver.com/news?oid=477&aid...  \n",
       "4   https://sports.news.naver.com/news?oid=109&aid...  \n",
       "5   https://sports.news.naver.com/news?oid=076&aid...  \n",
       "6   https://sports.news.naver.com/news?oid=477&aid...  \n",
       "7   https://sports.news.naver.com/news?oid=117&aid...  \n",
       "8   https://sports.news.naver.com/news?oid=082&aid...  \n",
       "9   https://sports.news.naver.com/news?oid=109&aid...  \n",
       "10  https://sports.news.naver.com/news?oid=411&aid...  \n",
       "11  https://sports.news.naver.com/news?oid=001&aid...  \n",
       "12  https://sports.news.naver.com/news?oid=117&aid...  \n",
       "13  https://sports.news.naver.com/news?oid=410&aid...  \n",
       "14  https://sports.news.naver.com/news?oid=411&aid...  \n",
       "15  https://sports.news.naver.com/news?oid=422&aid...  \n",
       "16  https://sports.news.naver.com/news?oid=472&aid...  \n",
       "17  https://sports.news.naver.com/news?oid=311&aid...  \n",
       "18  https://sports.news.naver.com/news?oid=031&aid...  \n",
       "19  https://sports.news.naver.com/news?oid=109&aid...  "
      ]
     },
     "execution_count": 6,
     "metadata": {},
     "output_type": "execute_result"
    }
   ],
   "source": [
    "df2 = pd.read_csv('./today_news.csv')\n",
    "df2"
   ]
  },
  {
   "cell_type": "code",
   "execution_count": 7,
   "id": "433e8386",
   "metadata": {
    "scrolled": true
   },
   "outputs": [
    {
     "name": "stderr",
     "output_type": "stream",
     "text": [
      "100%|█████████████████████████████████████████████████████████████████████████████████| 20/20 [00:00<00:00, 408.16it/s]\n"
     ]
    }
   ],
   "source": [
    "x_test, y_test = pre_train(df2['title'], df2['interested'], split=False)"
   ]
  },
  {
   "cell_type": "code",
   "execution_count": 8,
   "id": "7f43c4f8",
   "metadata": {},
   "outputs": [
    {
     "data": {
      "text/plain": [
       "(20, 21)"
      ]
     },
     "execution_count": 8,
     "metadata": {},
     "output_type": "execute_result"
    }
   ],
   "source": [
    "x_test.shape"
   ]
  },
  {
   "cell_type": "code",
   "execution_count": 9,
   "id": "c43678ef",
   "metadata": {},
   "outputs": [
    {
     "data": {
      "text/plain": [
       "(28984, 21)"
      ]
     },
     "execution_count": 9,
     "metadata": {},
     "output_type": "execute_result"
    }
   ],
   "source": [
    "x_train.shape"
   ]
  },
  {
   "cell_type": "code",
   "execution_count": 10,
   "id": "bf4373ac",
   "metadata": {},
   "outputs": [
    {
     "data": {
      "text/plain": [
       "array([[    0,     0,     0, ...,  1011,  2465,   342],\n",
       "       [    0,     0,     0, ...,   211,  3022,   311],\n",
       "       [    0,     0,     0, ...,     6,    83,    10],\n",
       "       ...,\n",
       "       [    0,     0,     0, ..., 22953,   101, 22954],\n",
       "       [    0,     0,     0, ...,  7156,     2,  3604],\n",
       "       [    0,     0,     0, ..., 22955,  2097, 22956]])"
      ]
     },
     "execution_count": 10,
     "metadata": {},
     "output_type": "execute_result"
    }
   ],
   "source": [
    "x_train"
   ]
  },
  {
   "cell_type": "markdown",
   "id": "103a83f5",
   "metadata": {},
   "source": [
    "# Training"
   ]
  },
  {
   "cell_type": "code",
   "execution_count": 11,
   "id": "c601174a",
   "metadata": {
    "scrolled": false
   },
   "outputs": [
    {
     "data": {
      "text/plain": [
       "[name: \"/device:CPU:0\"\n",
       " device_type: \"CPU\"\n",
       " memory_limit: 268435456\n",
       " locality {\n",
       " }\n",
       " incarnation: 7186878583228708505\n",
       " xla_global_id: -1,\n",
       " name: \"/device:GPU:0\"\n",
       " device_type: \"GPU\"\n",
       " memory_limit: 3643801600\n",
       " locality {\n",
       "   bus_id: 1\n",
       "   links {\n",
       "   }\n",
       " }\n",
       " incarnation: 17361921271120835154\n",
       " physical_device_desc: \"device: 0, name: NVIDIA GeForce RTX 3060 Laptop GPU, pci bus id: 0000:01:00.0, compute capability: 8.6\"\n",
       " xla_global_id: 416903419]"
      ]
     },
     "execution_count": 11,
     "metadata": {},
     "output_type": "execute_result"
    }
   ],
   "source": [
    "from tensorflow.python.client import device_lib\n",
    "device_lib.list_local_devices()"
   ]
  },
  {
   "cell_type": "code",
   "execution_count": 12,
   "id": "774a9caf",
   "metadata": {},
   "outputs": [],
   "source": [
    "os.environ[\"CUDA_VISIBLE_DEVICES\"] = \"0\""
   ]
  },
  {
   "cell_type": "code",
   "execution_count": 13,
   "id": "4d0a945e",
   "metadata": {},
   "outputs": [
    {
     "data": {
      "text/plain": [
       "52912"
      ]
     },
     "execution_count": 13,
     "metadata": {},
     "output_type": "execute_result"
    }
   ],
   "source": [
    "tokenizer = Tokenizer()\n",
    "tokenizer.fit_on_texts(df['title'])\n",
    "word_to_index = tokenizer.word_index\n",
    "vocab_size = len(word_to_index) + 1\n",
    "vocab_size"
   ]
  },
  {
   "cell_type": "code",
   "execution_count": 59,
   "id": "a1b200f5",
   "metadata": {},
   "outputs": [],
   "source": [
    "embedding_dim = 128\n",
    "dropout_prob = (0.5, 0.8) #임베딩 층 이후에는 50% 드롭아웃\n",
    "num_filters = 128"
   ]
  },
  {
   "cell_type": "code",
   "execution_count": 78,
   "id": "3ec709a0",
   "metadata": {},
   "outputs": [],
   "source": [
    "model_input = Input(shape = (21,)) \n",
    "z = Embedding(vocab_size, embedding_dim, input_length = 21, name=\"embedding\")(model_input)\n",
    "z = Dropout(dropout_prob[0])(z)"
   ]
  },
  {
   "cell_type": "code",
   "execution_count": 79,
   "id": "8d9609cf",
   "metadata": {},
   "outputs": [],
   "source": [
    "conv_blocks =[]\n",
    "\n",
    "for sz in [3,4,5]:\n",
    "    conv = Conv1D(filters = num_filters, \n",
    "                  kernel_size = sz,\n",
    "                  padding = 'valid',\n",
    "                  activation = 'relu',\n",
    "                  strides = 1)(z)\n",
    "    conv = GlobalMaxPooling1D()(conv) #maxpooling\n",
    "    conv = Flatten()(conv)\n",
    "    conv_blocks.append(conv)"
   ]
  },
  {
   "cell_type": "code",
   "execution_count": 80,
   "id": "0b55bd57",
   "metadata": {},
   "outputs": [],
   "source": [
    "z = Concatenate()(conv_blocks) if len(conv_blocks) > 1 else conv_blocks[0]\n",
    "z = Dropout(dropout_prob[1])(z)\n",
    "z = Dense(128, activation=\"relu\")(z)\n",
    "model_output = Dense(1, activation=\"sigmoid\")(z)\n",
    "\n",
    "model = Model(model_input, model_output)\n",
    "model.compile(loss = 'binary_crossentropy', optimizer = 'adam', metrics=['acc'])"
   ]
  },
  {
   "cell_type": "code",
   "execution_count": 81,
   "id": "00f9278d",
   "metadata": {},
   "outputs": [
    {
     "name": "stdout",
     "output_type": "stream",
     "text": [
      "Epoch 1/100\n",
      "453/453 [==============================] - 9s 15ms/step - loss: 0.2949 - acc: 0.9008 - val_loss: 0.4401 - val_acc: 0.8420\n",
      "Epoch 2/100\n",
      "453/453 [==============================] - 7s 15ms/step - loss: 0.1756 - acc: 0.9337 - val_loss: 0.4797 - val_acc: 0.8329\n",
      "Epoch 3/100\n",
      "453/453 [==============================] - 6s 13ms/step - loss: 0.1406 - acc: 0.9444 - val_loss: 0.5716 - val_acc: 0.8356\n",
      "Epoch 4/100\n",
      "453/453 [==============================] - 6s 13ms/step - loss: 0.1160 - acc: 0.9537 - val_loss: 0.5918 - val_acc: 0.8269\n",
      "Epoch 5/100\n",
      "453/453 [==============================] - 7s 15ms/step - loss: 0.0970 - acc: 0.9636 - val_loss: 0.6656 - val_acc: 0.8331\n",
      "Epoch 6/100\n",
      "453/453 [==============================] - 6s 14ms/step - loss: 0.0824 - acc: 0.9683 - val_loss: 0.7099 - val_acc: 0.8348\n",
      "Epoch 7/100\n",
      "453/453 [==============================] - 5s 12ms/step - loss: 0.0682 - acc: 0.9749 - val_loss: 0.7765 - val_acc: 0.8348\n"
     ]
    }
   ],
   "source": [
    "callbacks = [tf.keras.callbacks.EarlyStopping(monitor='val_loss',patience=6, mode='min'),\n",
    "             tf.keras.callbacks.ModelCheckpoint('./best.h5', monitor='val_loss',save_best_only=True, mode='max')\n",
    "]\n",
    "\n",
    "history = model.fit(x_train, y_train, epochs=100, batch_size=64, validation_data = (x_val, y_val), callbacks=callbacks)\n"
   ]
  },
  {
   "cell_type": "markdown",
   "id": "675b64c5",
   "metadata": {},
   "source": [
    "# Check Model Form"
   ]
  },
  {
   "cell_type": "code",
   "execution_count": 82,
   "id": "631db487",
   "metadata": {},
   "outputs": [
    {
     "name": "stdout",
     "output_type": "stream",
     "text": [
      "Model: \"model_15\"\n",
      "__________________________________________________________________________________________________\n",
      " Layer (type)                   Output Shape         Param #     Connected to                     \n",
      "==================================================================================================\n",
      " input_15 (InputLayer)          [(None, 21)]         0           []                               \n",
      "                                                                                                  \n",
      " embedding (Embedding)          (None, 21, 128)      6772736     ['input_15[0][0]']               \n",
      "                                                                                                  \n",
      " dropout_29 (Dropout)           (None, 21, 128)      0           ['embedding[0][0]']              \n",
      "                                                                                                  \n",
      " conv1d_45 (Conv1D)             (None, 19, 128)      49280       ['dropout_29[0][0]']             \n",
      "                                                                                                  \n",
      " conv1d_46 (Conv1D)             (None, 18, 128)      65664       ['dropout_29[0][0]']             \n",
      "                                                                                                  \n",
      " conv1d_47 (Conv1D)             (None, 17, 128)      82048       ['dropout_29[0][0]']             \n",
      "                                                                                                  \n",
      " global_max_pooling1d_42 (Globa  (None, 128)         0           ['conv1d_45[0][0]']              \n",
      " lMaxPooling1D)                                                                                   \n",
      "                                                                                                  \n",
      " global_max_pooling1d_43 (Globa  (None, 128)         0           ['conv1d_46[0][0]']              \n",
      " lMaxPooling1D)                                                                                   \n",
      "                                                                                                  \n",
      " global_max_pooling1d_44 (Globa  (None, 128)         0           ['conv1d_47[0][0]']              \n",
      " lMaxPooling1D)                                                                                   \n",
      "                                                                                                  \n",
      " flatten_42 (Flatten)           (None, 128)          0           ['global_max_pooling1d_42[0][0]']\n",
      "                                                                                                  \n",
      " flatten_43 (Flatten)           (None, 128)          0           ['global_max_pooling1d_43[0][0]']\n",
      "                                                                                                  \n",
      " flatten_44 (Flatten)           (None, 128)          0           ['global_max_pooling1d_44[0][0]']\n",
      "                                                                                                  \n",
      " concatenate_15 (Concatenate)   (None, 384)          0           ['flatten_42[0][0]',             \n",
      "                                                                  'flatten_43[0][0]',             \n",
      "                                                                  'flatten_44[0][0]']             \n",
      "                                                                                                  \n",
      " dropout_30 (Dropout)           (None, 384)          0           ['concatenate_15[0][0]']         \n",
      "                                                                                                  \n",
      " dense_30 (Dense)               (None, 128)          49280       ['dropout_30[0][0]']             \n",
      "                                                                                                  \n",
      " dense_31 (Dense)               (None, 1)            129         ['dense_30[0][0]']               \n",
      "                                                                                                  \n",
      "==================================================================================================\n",
      "Total params: 7,019,137\n",
      "Trainable params: 7,019,137\n",
      "Non-trainable params: 0\n",
      "__________________________________________________________________________________________________\n"
     ]
    }
   ],
   "source": [
    "model.summary()"
   ]
  },
  {
   "cell_type": "code",
   "execution_count": null,
   "id": "fd70637d",
   "metadata": {},
   "outputs": [],
   "source": [
    "%matplotlib inline\n",
    "\n",
    "SVG(model_to_dot(model, show_shapes=True).create(prog='dot', format='svg'))"
   ]
  },
  {
   "cell_type": "code",
   "execution_count": null,
   "id": "4d557e3e",
   "metadata": {},
   "outputs": [],
   "source": [
    "plot_model(model, to_file='test.png',show_shapes=True, show_layer_names=True)"
   ]
  }
 ],
 "metadata": {
  "kernelspec": {
   "display_name": "Python 3 (ipykernel)",
   "language": "python",
   "name": "python3"
  },
  "language_info": {
   "codemirror_mode": {
    "name": "ipython",
    "version": 3
   },
   "file_extension": ".py",
   "mimetype": "text/x-python",
   "name": "python",
   "nbconvert_exporter": "python",
   "pygments_lexer": "ipython3",
   "version": "3.10.0"
  }
 },
 "nbformat": 4,
 "nbformat_minor": 5
}
