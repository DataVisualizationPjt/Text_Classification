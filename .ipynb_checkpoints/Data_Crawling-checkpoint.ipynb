{
 "cells": [
  {
   "cell_type": "markdown",
   "id": "3fbb1edb",
   "metadata": {},
   "source": [
    "# Import Library"
   ]
  },
  {
   "cell_type": "code",
   "execution_count": 1,
   "id": "94512381",
   "metadata": {},
   "outputs": [],
   "source": [
    "import pandas as pd\n",
    "import selenium\n",
    "import time\n",
    "import random as rd\n",
    "\n",
    "from selenium import webdriver\n",
    "from selenium.webdriver.common.by import By\n",
    "from selenium.webdriver.common.keys import Keys\n",
    "from selenium.webdriver.common.action_chains import ActionChains\n",
    "import pyperclip"
   ]
  },
  {
   "cell_type": "markdown",
   "id": "79a65a5a",
   "metadata": {},
   "source": [
    "# Crawling '랭킹'"
   ]
  },
  {
   "cell_type": "code",
   "execution_count": 8,
   "id": "159908fd",
   "metadata": {},
   "outputs": [
    {
     "ename": "NoSuchWindowException",
     "evalue": "Message: no such window: target window already closed\nfrom unknown error: web view not found\n  (Session info: chrome=114.0.5735.110)\nStacktrace:\nBacktrace:\n\tGetHandleVerifier [0x00C9A813+48355]\n\t(No symbol) [0x00C2C4B1]\n\t(No symbol) [0x00B35358]\n\t(No symbol) [0x00B1D293]\n\t(No symbol) [0x00B7E37B]\n\t(No symbol) [0x00B8C473]\n\t(No symbol) [0x00B7A536]\n\t(No symbol) [0x00B582DC]\n\t(No symbol) [0x00B593DD]\n\tGetHandleVerifier [0x00EFAABD+2539405]\n\tGetHandleVerifier [0x00F3A78F+2800735]\n\tGetHandleVerifier [0x00F3456C+2775612]\n\tGetHandleVerifier [0x00D251E0+616112]\n\t(No symbol) [0x00C35F8C]\n\t(No symbol) [0x00C32328]\n\t(No symbol) [0x00C3240B]\n\t(No symbol) [0x00C24FF7]\n\tBaseThreadInitThunk [0x76367D59+25]\n\tRtlInitializeExceptionChain [0x7727B74B+107]\n\tRtlClearBits [0x7727B6CF+191]\n",
     "output_type": "error",
     "traceback": [
      "\u001b[1;31m---------------------------------------------------------------------------\u001b[0m",
      "\u001b[1;31mNoSuchWindowException\u001b[0m                     Traceback (most recent call last)",
      "Cell \u001b[1;32mIn[8], line 96\u001b[0m\n\u001b[0;32m     93\u001b[0m     \u001b[38;5;28;01mexcept\u001b[39;00m:\n\u001b[0;32m     94\u001b[0m         \u001b[38;5;28;01mpass\u001b[39;00m\n\u001b[1;32m---> 96\u001b[0m     \u001b[43mdriver\u001b[49m\u001b[38;5;241;43m.\u001b[39;49m\u001b[43mback\u001b[49m\u001b[43m(\u001b[49m\u001b[43m)\u001b[49m\n\u001b[0;32m     97\u001b[0m     time\u001b[38;5;241m.\u001b[39msleep(rd\u001b[38;5;241m.\u001b[39muniform(\u001b[38;5;241m0\u001b[39m,\u001b[38;5;241m1\u001b[39m))\n\u001b[0;32m     99\u001b[0m driver\u001b[38;5;241m.\u001b[39mexecute_script(\u001b[38;5;124m\"\u001b[39m\u001b[38;5;124mwindow.scrollTo(0,0);\u001b[39m\u001b[38;5;124m\"\u001b[39m)\n",
      "File \u001b[1;32m~\\anaconda3\\envs\\univ\\lib\\site-packages\\selenium\\webdriver\\remote\\webdriver.py:643\u001b[0m, in \u001b[0;36mWebDriver.back\u001b[1;34m(self)\u001b[0m\n\u001b[0;32m    635\u001b[0m \u001b[38;5;28;01mdef\u001b[39;00m \u001b[38;5;21mback\u001b[39m(\u001b[38;5;28mself\u001b[39m) \u001b[38;5;241m-\u001b[39m\u001b[38;5;241m>\u001b[39m \u001b[38;5;28;01mNone\u001b[39;00m:\n\u001b[0;32m    636\u001b[0m \u001b[38;5;250m    \u001b[39m\u001b[38;5;124;03m\"\"\"Goes one step backward in the browser history.\u001b[39;00m\n\u001b[0;32m    637\u001b[0m \n\u001b[0;32m    638\u001b[0m \u001b[38;5;124;03m    :Usage:\u001b[39;00m\n\u001b[1;32m   (...)\u001b[0m\n\u001b[0;32m    641\u001b[0m \u001b[38;5;124;03m            driver.back()\u001b[39;00m\n\u001b[0;32m    642\u001b[0m \u001b[38;5;124;03m    \"\"\"\u001b[39;00m\n\u001b[1;32m--> 643\u001b[0m     \u001b[38;5;28;43mself\u001b[39;49m\u001b[38;5;241;43m.\u001b[39;49m\u001b[43mexecute\u001b[49m\u001b[43m(\u001b[49m\u001b[43mCommand\u001b[49m\u001b[38;5;241;43m.\u001b[39;49m\u001b[43mGO_BACK\u001b[49m\u001b[43m)\u001b[49m\n",
      "File \u001b[1;32m~\\anaconda3\\envs\\univ\\lib\\site-packages\\selenium\\webdriver\\remote\\webdriver.py:440\u001b[0m, in \u001b[0;36mWebDriver.execute\u001b[1;34m(self, driver_command, params)\u001b[0m\n\u001b[0;32m    438\u001b[0m response \u001b[38;5;241m=\u001b[39m \u001b[38;5;28mself\u001b[39m\u001b[38;5;241m.\u001b[39mcommand_executor\u001b[38;5;241m.\u001b[39mexecute(driver_command, params)\n\u001b[0;32m    439\u001b[0m \u001b[38;5;28;01mif\u001b[39;00m response:\n\u001b[1;32m--> 440\u001b[0m     \u001b[38;5;28;43mself\u001b[39;49m\u001b[38;5;241;43m.\u001b[39;49m\u001b[43merror_handler\u001b[49m\u001b[38;5;241;43m.\u001b[39;49m\u001b[43mcheck_response\u001b[49m\u001b[43m(\u001b[49m\u001b[43mresponse\u001b[49m\u001b[43m)\u001b[49m\n\u001b[0;32m    441\u001b[0m     response[\u001b[38;5;124m\"\u001b[39m\u001b[38;5;124mvalue\u001b[39m\u001b[38;5;124m\"\u001b[39m] \u001b[38;5;241m=\u001b[39m \u001b[38;5;28mself\u001b[39m\u001b[38;5;241m.\u001b[39m_unwrap_value(response\u001b[38;5;241m.\u001b[39mget(\u001b[38;5;124m\"\u001b[39m\u001b[38;5;124mvalue\u001b[39m\u001b[38;5;124m\"\u001b[39m, \u001b[38;5;28;01mNone\u001b[39;00m))\n\u001b[0;32m    442\u001b[0m     \u001b[38;5;28;01mreturn\u001b[39;00m response\n",
      "File \u001b[1;32m~\\anaconda3\\envs\\univ\\lib\\site-packages\\selenium\\webdriver\\remote\\errorhandler.py:245\u001b[0m, in \u001b[0;36mErrorHandler.check_response\u001b[1;34m(self, response)\u001b[0m\n\u001b[0;32m    243\u001b[0m         alert_text \u001b[38;5;241m=\u001b[39m value[\u001b[38;5;124m\"\u001b[39m\u001b[38;5;124malert\u001b[39m\u001b[38;5;124m\"\u001b[39m]\u001b[38;5;241m.\u001b[39mget(\u001b[38;5;124m\"\u001b[39m\u001b[38;5;124mtext\u001b[39m\u001b[38;5;124m\"\u001b[39m)\n\u001b[0;32m    244\u001b[0m     \u001b[38;5;28;01mraise\u001b[39;00m exception_class(message, screen, stacktrace, alert_text)  \u001b[38;5;66;03m# type: ignore[call-arg]  # mypy is not smart enough here\u001b[39;00m\n\u001b[1;32m--> 245\u001b[0m \u001b[38;5;28;01mraise\u001b[39;00m exception_class(message, screen, stacktrace)\n",
      "\u001b[1;31mNoSuchWindowException\u001b[0m: Message: no such window: target window already closed\nfrom unknown error: web view not found\n  (Session info: chrome=114.0.5735.110)\nStacktrace:\nBacktrace:\n\tGetHandleVerifier [0x00C9A813+48355]\n\t(No symbol) [0x00C2C4B1]\n\t(No symbol) [0x00B35358]\n\t(No symbol) [0x00B1D293]\n\t(No symbol) [0x00B7E37B]\n\t(No symbol) [0x00B8C473]\n\t(No symbol) [0x00B7A536]\n\t(No symbol) [0x00B582DC]\n\t(No symbol) [0x00B593DD]\n\tGetHandleVerifier [0x00EFAABD+2539405]\n\tGetHandleVerifier [0x00F3A78F+2800735]\n\tGetHandleVerifier [0x00F3456C+2775612]\n\tGetHandleVerifier [0x00D251E0+616112]\n\t(No symbol) [0x00C35F8C]\n\t(No symbol) [0x00C32328]\n\t(No symbol) [0x00C3240B]\n\t(No symbol) [0x00C24FF7]\n\tBaseThreadInitThunk [0x76367D59+25]\n\tRtlInitializeExceptionChain [0x7727B74B+107]\n\tRtlClearBits [0x7727B6CF+191]\n"
     ]
    }
   ],
   "source": [
    "# Generate Json\n",
    "sports_news = {'news':[]}\n",
    "\n",
    "driver = webdriver.Chrome()\n",
    "driver.get('https://www.naver.com/')\n",
    "time.sleep(rd.uniform(0,1.5))\n",
    "\n",
    "driver.find_element(By.CSS_SELECTOR,r'#account > div > a').click()\n",
    "time.sleep(rd.uniform(0,1.5))\n",
    "\n",
    "\n",
    "# Log In\n",
    "# user_id = str(input('아이디를 입력하세요: '))\n",
    "# user_passwd = str(input('비밀번호를 입력하세요: '))\n",
    "user_id = 'sysconan'\n",
    "user_passwd = '!Brandan0211'\n",
    "\n",
    "driver.find_element(By.CSS_SELECTOR,r'#id_line').click()\n",
    "pyperclip.copy(user_id)\n",
    "ActionChains(driver).key_down(Keys.CONTROL).send_keys('v').key_up(Keys.CONTROL).perform()\n",
    "time.sleep(rd.uniform(0,1.5))\n",
    "\n",
    "driver.find_element(By.CSS_SELECTOR,r'#pw').click()\n",
    "pyperclip.copy(user_passwd)\n",
    "ActionChains(driver).key_down(Keys.CONTROL).send_keys('v').key_up(Keys.CONTROL).perform()\n",
    "time.sleep(rd.uniform(0,1.5))\n",
    "\n",
    "driver.find_element(By.CSS_SELECTOR,r'#log\\.login').click()\n",
    "time.sleep(rd.uniform(1,1.5))\n",
    "\n",
    "# Go To Sports Page\n",
    "driver.execute_script(\"window.scrollTo(100, 0);\")\n",
    "driver.find_element(By.CSS_SELECTOR,r'#shortcutArea > ul > li:nth-child(10) > a').click()\n",
    "driver.find_element(By.CSS_SELECTOR,r'#shortcutArea > div > ul > li:nth-child(9) > a').click()\n",
    "driver.switch_to.window(driver.window_handles[0])\n",
    "driver.close()\n",
    "driver.switch_to.window(driver.window_handles[0])\n",
    "driver.find_element(By.CSS_SELECTOR,r'#lnb_list > li:nth-child(13) > a').click()\n",
    "time.sleep(rd.uniform(1,2))\n",
    "\n",
    "# Setting Date\n",
    "driver.find_element(By.CSS_SELECTOR,r'#_calendarToggleBtn').click()\n",
    "driver.find_element(By.CSS_SELECTOR,r'#_yearSelectBtn').click()\n",
    "driver.find_element(By.CSS_SELECTOR,r'#scroll_year > ul > li:nth-child(6) > a').click()\n",
    "month = driver.find_element(By.CSS_SELECTOR,r'span.calendar-title-month.month > em').text\n",
    "month = int(month.lstrip('0'))\n",
    "for m in range(month-1):\n",
    "    driver.find_element(By.CSS_SELECTOR,r'#calendar_layer > div > div.calendar_head > a').click()\n",
    "time.sleep(rd.uniform(0,1.5))\n",
    "driver.find_element(By.CSS_SELECTOR,\n",
    "                    r'tbody > tr:nth-child(1) > td:nth-child(2) > a').click()\n",
    "time.sleep(1)\n",
    "\n",
    "date = ''\n",
    "# Generating Loop\n",
    "while True:\n",
    "    # Crawling Titles, Articles, Interested\n",
    "    driver.execute_script(\"window.scrollTo(0,document.body.scrollHeight);\")\n",
    "    news_lst = driver.find_elements(By.CSS_SELECTOR, 'div#_newsList > ul > li > div.text')\n",
    "    date = driver.find_element(By.CSS_SELECTOR,'span.day').text[:-1]\n",
    "\n",
    "    for news in range(len(news_lst)):\n",
    "        try:\n",
    "            driver.find_element(By.CSS_SELECTOR,\n",
    "                                f'div#_newsList > ul > li:nth-child({news+1}) > div.text > a').click()\n",
    "            title = driver.find_element(By.CSS_SELECTOR,'h4.title').text\n",
    "            driver.execute_script(\"window.scrollTo(0,document.body.scrollHeight);\")\n",
    "            article = driver.find_element(By.CSS_SELECTOR,'div#newsEndContents').text\n",
    "            article = article.replace('\\n','')\n",
    "\n",
    "            # Delete Unnecessary Elements\n",
    "            for div in driver.find_elements(By.CSS_SELECTOR,'div#newsEndContents > div'):\n",
    "                article = article.replace(div.text,'')\n",
    "\n",
    "            for p in driver.find_elements(By.CSS_SELECTOR,'div#newsEndContents > p'):\n",
    "                article = article.replace(p.text,'')\n",
    "\n",
    "            for em in driver.find_elements(By.CSS_SELECTOR,'div#newsEndContents > span > em'):\n",
    "                article = article.replace(em.text,'')\n",
    "\n",
    "            # If '이 기사를 추천합니다' button is on, 'Interested' is 1\n",
    "            if driver.find_element(By.CSS_SELECTOR,\n",
    "                                   '#__markup_tomain > div > a').get_attribute('aria-pressed') == 'true':\n",
    "                interested = 1\n",
    "            else:\n",
    "                interested = 0\n",
    "\n",
    "            sports_news['news'].append({'date':date,\n",
    "                                       'title':title,\n",
    "                                       'article':article,\n",
    "                                       'interested':interested})\n",
    "            \n",
    "        except:\n",
    "            pass\n",
    "\n",
    "        driver.back()\n",
    "        time.sleep(rd.uniform(0,1))\n",
    "        \n",
    "    driver.execute_script(\"window.scrollTo(0,0);\")\n",
    "    driver.find_element(By.CSS_SELECTOR,\n",
    "                            f'#_topDateNav > a.arr.next').click()\n",
    "    time.sleep(rd.uniform(0,1))\n",
    "    \n",
    "    if date == '2019.12.31':\n",
    "        break"
   ]
  },
  {
   "cell_type": "code",
   "execution_count": null,
   "id": "3f29f936",
   "metadata": {},
   "outputs": [],
   "source": [
    "df = pd.DataFrame(sports_news['news'])\n",
    "df"
   ]
  },
  {
   "cell_type": "code",
   "execution_count": null,
   "id": "9a61fc5c",
   "metadata": {},
   "outputs": [],
   "source": []
  }
 ],
 "metadata": {
  "kernelspec": {
   "display_name": "univ_project",
   "language": "python",
   "name": "univ"
  },
  "language_info": {
   "codemirror_mode": {
    "name": "ipython",
    "version": 3
   },
   "file_extension": ".py",
   "mimetype": "text/x-python",
   "name": "python",
   "nbconvert_exporter": "python",
   "pygments_lexer": "ipython3",
   "version": "3.10.0"
  }
 },
 "nbformat": 4,
 "nbformat_minor": 5
}
