{
 "cells": [
  {
   "cell_type": "code",
   "execution_count": 1,
   "id": "11ee973a",
   "metadata": {},
   "outputs": [
    {
     "name": "stdout",
     "output_type": "stream",
     "text": [
      "imFE4n2gdxLAHRSQVQwujFTtv4ouRaqwQJ7O-omD1TTNPEHOytdFQO4psrjtjQCHsOleUQo9dRkAAAGIsOMswg\n",
      "{'access_token': '5XimkLJhZyfUnZyx3myc2xSDg1JaJolbpk6C0JqoCj11GQAAAYiwQmJC', 'token_type': 'bearer', 'refresh_token': 'GKkbaFA24Vs-IaXt2yEn_6W-OhrgdpUT3kITv0vkCj11GQAAAYiwQmJB', 'expires_in': 21599, 'scope': 'account_email profile_image talk_message profile_nickname friends', 'refresh_token_expires_in': 5183999}\n",
      "<class 'dict'>\n",
      "=============================================\n",
      "{'elements': [{'profile_nickname': '영석 경영', 'profile_thumbnail_image': 'https://p.kakaocdn.net/th/talkp/wnL5Ia3tCC/j3zMM4cmw8mPJJ5ZfNN1g1/l2xjhf_110x110_c.jpg', 'allowed_msg': True, 'id': 2840666797, 'uuid': 'Tn9HdEd3QndBbVlgVGVcaFtrR35Mfkl8SSE', 'favorite': False}], 'total_count': 1, 'after_url': None, 'favorite_count': 0}\n",
      "=============================================\n",
      "[{'profile_nickname': '영석 경영', 'profile_thumbnail_image': 'https://p.kakaocdn.net/th/talkp/wnL5Ia3tCC/j3zMM4cmw8mPJJ5ZfNN1g1/l2xjhf_110x110_c.jpg', 'allowed_msg': True, 'id': 2840666797, 'uuid': 'Tn9HdEd3QndBbVlgVGVcaFtrR35Mfkl8SSE', 'favorite': False}]\n",
      "=============================================\n",
      "Tn9HdEd3QndBbVlgVGVcaFtrR35Mfkl8SSE\n",
      "Tn9HdEd3QndBbVlgVGVcaFtrR35Mfkl8SSE\n",
      "Crawling Today News..\n"
     ]
    },
    {
     "name": "stderr",
     "output_type": "stream",
     "text": [
      "100%|██████████| 20/20 [00:21<00:00,  1.07s/it]\n"
     ]
    },
    {
     "name": "stdout",
     "output_type": "stream",
     "text": [
      "time : 21.438796758651733s\n"
     ]
    },
    {
     "name": "stderr",
     "output_type": "stream",
     "text": [
      "100%|██████████| 20/20 [00:00<00:00, 3209.35it/s]\n",
      "100%|██████████| 20/20 [00:01<00:00, 13.02it/s]\n"
     ]
    },
    {
     "name": "stdout",
     "output_type": "stream",
     "text": [
      "1/1 [==============================] - 0s 57ms/step\n",
      "200\n",
      "[200]\n"
     ]
    },
    {
     "data": {
      "text/plain": [
       "200"
      ]
     },
     "execution_count": 1,
     "metadata": {},
     "output_type": "execute_result"
    }
   ],
   "source": [
    "import argparse\n",
    "import requests\n",
    "import json\n",
    "import pandas as pd\n",
    "from PyKakao import Message\n",
    "from news_classify.prediction import prediction\n",
    "from news_classify.kakao_util import *\n",
    "\n",
    "def parse_opt():\n",
    "    parser = argparse.ArgumentParser()\n",
    "    parser.add_argument('-t',\"--to\", dest='to', default='friend', action=\"store\")\n",
    "    opt = parser.parse_args()\n",
    "    return opt\n",
    "\n",
    "def send(to='friend'):\n",
    "    code = get_code()\n",
    "    designate_to(code,to=to)\n",
    "\n",
    "    news_list = []\n",
    "    df = prediction('./best.h5')\n",
    "    df = (df.sort_values('interested', ascending = False))[:3]\n",
    "\n",
    "    for i in df.index:\n",
    "        title = df.loc[i, 'title']\n",
    "        interest = df.loc[i, 'interested']\n",
    "        link = df.loc[i, 'link']\n",
    "        news_list.append((title, interest, link))\n",
    "\n",
    "    message = '♨ 따끈한 최신 뉴스가 도착했어요 ♨\\n\\n'\n",
    "\n",
    "    for idx, (title, interest, link) in enumerate(news_list, start=1):\n",
    "        message += f'{idx}. {round((interest*100),2)}% 확률로 관심 뉴스에요!\\n[{title}]\\n{link}\\n\\n'\n",
    "    \n",
    "    if to=='friend':\n",
    "        data = {\n",
    "            'receiver_uuids': '[\"{}\"]'.format(friend_id),\n",
    "            'template_object' : json.dumps\n",
    "            ({'object_type': 'text',\n",
    "                    'text': message,\n",
    "                    'link': {\n",
    "                        'web_url': 'https://developers.kakao.com',\n",
    "                        'mobile_web_url': 'https://developers.kakao.com'\n",
    "                    },\n",
    "                    'button_title': '바로 확인'})\n",
    "            }\n",
    "    if to=='me':\n",
    "        data = {\n",
    "            'template_object' : json.dumps\n",
    "            ({'object_type': 'text',\n",
    "                    'text': message,\n",
    "                    'link': {\n",
    "                        'web_url': 'https://developers.kakao.com',\n",
    "                        'mobile_web_url': 'https://developers.kakao.com'\n",
    "                    },\n",
    "                    'button_title': '바로 확인'})\n",
    "\n",
    "    response_status_list = []\n",
    "\n",
    "    data_json = {'template_object': json.dumps(data)}\n",
    "    response = requests.post(send_url, headers=headers, data=data)\n",
    "    response_status = response.status_code\n",
    "    response_status_list.append(response_status)\n",
    "\n",
    "    print(response_status)\n",
    "    print(response_status_list)\n",
    "\n",
    "    response.status_code\n",
    "    \n",
    "def main(opt):\n",
    "    send(opt)\n",
    "    \n",
    "if __name__ == '__main__':\n",
    "    opt = parse_opt()\n",
    "    main(opt.to)"
   ]
  }
 ],
 "metadata": {
  "kernelspec": {
   "display_name": "Python 3 (ipykernel)",
   "language": "python",
   "name": "python3"
  },
  "language_info": {
   "codemirror_mode": {
    "name": "ipython",
    "version": 3
   },
   "file_extension": ".py",
   "mimetype": "text/x-python",
   "name": "python",
   "nbconvert_exporter": "python",
   "pygments_lexer": "ipython3",
   "version": "3.10.0"
  }
 },
 "nbformat": 4,
 "nbformat_minor": 5
}
