{
 "cells": [
  {
   "cell_type": "code",
   "execution_count": null,
   "id": "c1392a08",
   "metadata": {},
   "outputs": [],
   "source": [
    "def preprocessing_df(df):\n",
    "    # Import Library\n",
    "    import pandas as pd\n",
    "    import re\n",
    "    from tqdm import tqdm\n",
    "    \n",
    "    def remove_numbers(text):\n",
    "        df.loc[raw,col] = re.sub(r'\\d+', '', text)  # 숫자를 공백으로 대체\n",
    "        return df.strip()  # 양쪽 공백 제거\n",
    "    \n",
    "    def cleaning(text):\n",
    "        try:\n",
    "            text = text.replace('[','(')\n",
    "            text = text.replace(']',')')\n",
    "            text = re.sub(pattern=r'\\([^)]*\\)', repl='', string= text)\n",
    "            text = re.sub(pattern=r'\\{[^}]*\\)', repl='', string= text)\n",
    "            text = re.sub(pattern=r'\\<[^>]*\\)', repl='', string= text)\n",
    "        except:\n",
    "            pass\n",
    "        try:\n",
    "            text = re.sub(pattern=r'[^ 가-힣a-zA-Z0-9_]', repl='', string= text)\n",
    "        except:\n",
    "            pass\n",
    "    \n",
    "    df = df.dropna()\n",
    "    df = df.reset_index(drop=True)\n",
    "    for raw in tqdm(range(len(df))):\n",
    "        for col in ['title','article']:\n",
    "            df.loc[raw,col] = remove_numbers(df.loc[raw,col])\n",
    "            df.loc[raw,col] = cleaning(df.loc[raw,col])\n",
    "            \n",
    "    return df"
   ]
  }
 ],
 "metadata": {
  "kernelspec": {
   "display_name": "univ_project",
   "language": "python",
   "name": "univ"
  },
  "language_info": {
   "codemirror_mode": {
    "name": "ipython",
    "version": 3
   },
   "file_extension": ".py",
   "mimetype": "text/x-python",
   "name": "python",
   "nbconvert_exporter": "python",
   "pygments_lexer": "ipython3",
   "version": "3.10.0"
  }
 },
 "nbformat": 4,
 "nbformat_minor": 5
}
